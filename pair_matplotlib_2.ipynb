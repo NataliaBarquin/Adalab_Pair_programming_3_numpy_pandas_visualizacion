{
 "cells": [
  {
   "cell_type": "code",
   "execution_count": 2,
   "metadata": {},
   "outputs": [
    {
     "data": {
      "text/plain": [
       "'\\nAyer creamos un par de gráficas para los tickets de la categoría \"Software\" y \"Hardware\", donde visualizamos el número de clientes que teníamos en cada grupo de satisfacción.\\nHoy tendréis que hacer dos gráficas con subplots: \\n\\n'"
      ]
     },
     "execution_count": 2,
     "metadata": {},
     "output_type": "execute_result"
    }
   ],
   "source": [
    "\"\"\"\n",
    "Ayer creamos un par de gráficas para los tickets de la categoría \"Software\" y \"Hardware\", donde visualizamos el número de clientes que teníamos en cada grupo de satisfacción.\n",
    "Hoy tendréis que hacer dos gráficas con subplots: \n",
    "\n",
    "\"\"\""
   ]
  },
  {
   "cell_type": "code",
   "execution_count": 3,
   "metadata": {},
   "outputs": [],
   "source": [
    "import matplotlib.pyplot as plt\n",
    "import pandas as pd"
   ]
  },
  {
   "cell_type": "code",
   "execution_count": 4,
   "metadata": {},
   "outputs": [
    {
     "data": {
      "text/plain": [
       "'\\n\\n1 En la primera debéis mostrar la cantidad de tickets en función del tipo (si es Problema o Solicitud), cada subplot corresponderá a cada una de las categorías. Debéis:\\n    \\n Poner nombre a los ejes de cada uno de los subplots\\n\\nPoner un títulos a cada uno de los subplots\\nPoner el color de las líneas en negro.\\nEstablecer el tamaño de la gráfica a 15 x 5\\nPonerle marcadores a las gráficas\\nNo incluir leyenda\\n\\n En la segunda debéis mostrar el número de tickets en función de la satisfacción.\\n\\nDe nuevo tendréis que ponerle nombre a los ejes y título a cada gráfica.\\nEn este caso el subplot deberá tener dos filas y una columna\\nNo incluir leyenda\\nCambiar el color de las barras\\n\\n'"
      ]
     },
     "execution_count": 4,
     "metadata": {},
     "output_type": "execute_result"
    }
   ],
   "source": [
    "\"\"\"\n",
    "\n",
    "1 En la primera debéis mostrar la cantidad de tickets en función del tipo (si es Problema o Solicitud), cada subplot corresponderá a cada una de las categorías. Debéis:\n",
    "    \n",
    " Poner nombre a los ejes de cada uno de los subplots\n",
    "\n",
    "Poner un títulos a cada uno de los subplots\n",
    "Poner el color de las líneas en negro.\n",
    "Establecer el tamaño de la gráfica a 15 x 5\n",
    "Ponerle marcadores a las gráficas\n",
    "No incluir leyenda\n",
    "\n",
    " En la segunda debéis mostrar el número de tickets en función de la satisfacción.\n",
    "\n",
    "De nuevo tendréis que ponerle nombre a los ejes y título a cada gráfica.\n",
    "En este caso el subplot deberá tener dos filas y una columna\n",
    "No incluir leyenda\n",
    "Cambiar el color de las barras\n",
    "\n",
    "\"\"\""
   ]
  },
  {
   "cell_type": "code",
   "execution_count": 49,
   "metadata": {},
   "outputs": [
    {
     "data": {
      "text/html": [
       "<div>\n",
       "<style scoped>\n",
       "    .dataframe tbody tr th:only-of-type {\n",
       "        vertical-align: middle;\n",
       "    }\n",
       "\n",
       "    .dataframe tbody tr th {\n",
       "        vertical-align: top;\n",
       "    }\n",
       "\n",
       "    .dataframe thead th {\n",
       "        text-align: right;\n",
       "    }\n",
       "</style>\n",
       "<table border=\"1\" class=\"dataframe\">\n",
       "  <thead>\n",
       "    <tr style=\"text-align: right;\">\n",
       "      <th></th>\n",
       "      <th>Unnamed: 0</th>\n",
       "      <th>Turno</th>\n",
       "      <th>ID Empleado</th>\n",
       "      <th>Apellido</th>\n",
       "      <th>Nombre</th>\n",
       "      <th>ID Puesto</th>\n",
       "      <th>Email</th>\n",
       "      <th>Unnamed: 0.1</th>\n",
       "      <th>Puesto</th>\n",
       "      <th>Departamento</th>\n",
       "      <th>Tipo Puesto</th>\n",
       "    </tr>\n",
       "  </thead>\n",
       "  <tbody>\n",
       "    <tr>\n",
       "      <th>0</th>\n",
       "      <td>0</td>\n",
       "      <td>A</td>\n",
       "      <td>6</td>\n",
       "      <td>VILLA</td>\n",
       "      <td>JESUS</td>\n",
       "      <td>50-32200</td>\n",
       "      <td>jesus.villa@tractchun.com</td>\n",
       "      <td>52</td>\n",
       "      <td>Comprador de Materiales</td>\n",
       "      <td>CONTROL DE PRODUCCION</td>\n",
       "      <td>Administrativo</td>\n",
       "    </tr>\n",
       "    <tr>\n",
       "      <th>1</th>\n",
       "      <td>1</td>\n",
       "      <td>NaN</td>\n",
       "      <td>10</td>\n",
       "      <td>MENDEZ</td>\n",
       "      <td>RICARDO</td>\n",
       "      <td>15-24100</td>\n",
       "      <td>ricardo.mendez@tractchun.com</td>\n",
       "      <td>12</td>\n",
       "      <td>Supervisor de Producción</td>\n",
       "      <td>PRODUCCION</td>\n",
       "      <td>Mandos Medios</td>\n",
       "    </tr>\n",
       "    <tr>\n",
       "      <th>2</th>\n",
       "      <td>2</td>\n",
       "      <td>NaN</td>\n",
       "      <td>21</td>\n",
       "      <td>HEREDIA</td>\n",
       "      <td>GUADALUPE</td>\n",
       "      <td>90-14000</td>\n",
       "      <td>guadalupe.heredia@tractchun.com</td>\n",
       "      <td>90</td>\n",
       "      <td>Supervisor de Ingeniería de Calidad</td>\n",
       "      <td>INGENIERIA DE CALIDAD</td>\n",
       "      <td>Mandos Medios</td>\n",
       "    </tr>\n",
       "    <tr>\n",
       "      <th>3</th>\n",
       "      <td>3</td>\n",
       "      <td>NaN</td>\n",
       "      <td>27</td>\n",
       "      <td>DURAN</td>\n",
       "      <td>DESSENS</td>\n",
       "      <td>15-24100</td>\n",
       "      <td>dessens.duran@tractchun.com</td>\n",
       "      <td>12</td>\n",
       "      <td>Supervisor de Producción</td>\n",
       "      <td>PRODUCCION</td>\n",
       "      <td>Mandos Medios</td>\n",
       "    </tr>\n",
       "    <tr>\n",
       "      <th>4</th>\n",
       "      <td>4</td>\n",
       "      <td>NaN</td>\n",
       "      <td>29</td>\n",
       "      <td>LAGUNA</td>\n",
       "      <td>FEDERICO</td>\n",
       "      <td>80-24100</td>\n",
       "      <td>federico.laguna@tractchun.com</td>\n",
       "      <td>87</td>\n",
       "      <td>Supervisor de Producción</td>\n",
       "      <td>MANTENIMIENTO</td>\n",
       "      <td>Mandos Medios</td>\n",
       "    </tr>\n",
       "  </tbody>\n",
       "</table>\n",
       "</div>"
      ],
      "text/plain": [
       "   Unnamed: 0 Turno  ID Empleado Apellido     Nombre ID Puesto  \\\n",
       "0           0     A            6    VILLA      JESUS  50-32200   \n",
       "1           1   NaN           10   MENDEZ    RICARDO  15-24100   \n",
       "2           2   NaN           21  HEREDIA  GUADALUPE  90-14000   \n",
       "3           3   NaN           27    DURAN    DESSENS  15-24100   \n",
       "4           4   NaN           29   LAGUNA   FEDERICO  80-24100   \n",
       "\n",
       "                             Email  Unnamed: 0.1  \\\n",
       "0        jesus.villa@tractchun.com            52   \n",
       "1     ricardo.mendez@tractchun.com            12   \n",
       "2  guadalupe.heredia@tractchun.com            90   \n",
       "3      dessens.duran@tractchun.com            12   \n",
       "4    federico.laguna@tractchun.com            87   \n",
       "\n",
       "                                Puesto           Departamento     Tipo Puesto  \n",
       "0              Comprador de Materiales  CONTROL DE PRODUCCION  Administrativo  \n",
       "1             Supervisor de Producción             PRODUCCION   Mandos Medios  \n",
       "2  Supervisor de Ingeniería de Calidad  INGENIERIA DE CALIDAD   Mandos Medios  \n",
       "3             Supervisor de Producción             PRODUCCION   Mandos Medios  \n",
       "4             Supervisor de Producción          MANTENIMIENTO   Mandos Medios  "
      ]
     },
     "execution_count": 49,
     "metadata": {},
     "output_type": "execute_result"
    }
   ],
   "source": [
    "df_puestos = pd.read_csv(\"data/puestos_empleados.csv\")\n",
    "df_puestos.head()"
   ]
  },
  {
   "cell_type": "code",
   "execution_count": 6,
   "metadata": {},
   "outputs": [
    {
     "data": {
      "text/html": [
       "<div>\n",
       "<style scoped>\n",
       "    .dataframe tbody tr th:only-of-type {\n",
       "        vertical-align: middle;\n",
       "    }\n",
       "\n",
       "    .dataframe tbody tr th {\n",
       "        vertical-align: top;\n",
       "    }\n",
       "\n",
       "    .dataframe thead th {\n",
       "        text-align: right;\n",
       "    }\n",
       "</style>\n",
       "<table border=\"1\" class=\"dataframe\">\n",
       "  <thead>\n",
       "    <tr style=\"text-align: right;\">\n",
       "      <th></th>\n",
       "      <th>Unnamed: 0</th>\n",
       "      <th>id_ticket</th>\n",
       "      <th>fecha</th>\n",
       "      <th>id_empleado</th>\n",
       "      <th>id_agente</th>\n",
       "      <th>categoría</th>\n",
       "      <th>tipo</th>\n",
       "      <th>severidad</th>\n",
       "      <th>prioridad</th>\n",
       "      <th>días_resolución</th>\n",
       "      <th>satisfacción</th>\n",
       "    </tr>\n",
       "  </thead>\n",
       "  <tbody>\n",
       "    <tr>\n",
       "      <th>0</th>\n",
       "      <td>0</td>\n",
       "      <td>GDDENR-5042564453</td>\n",
       "      <td>2016-07-13</td>\n",
       "      <td>1735.0</td>\n",
       "      <td>4.0</td>\n",
       "      <td>Acceso&amp;%Login</td>\n",
       "      <td>Problema</td>\n",
       "      <td>0 - Sin Clasificar</td>\n",
       "      <td>0 - Sin Asignar</td>\n",
       "      <td>0.0</td>\n",
       "      <td>5.0</td>\n",
       "    </tr>\n",
       "    <tr>\n",
       "      <th>1</th>\n",
       "      <td>1</td>\n",
       "      <td>GDDENR-8042508060</td>\n",
       "      <td>2016-05-18</td>\n",
       "      <td>1566.0</td>\n",
       "      <td>10.0</td>\n",
       "      <td>Acceso&amp;%Login</td>\n",
       "      <td>Problema</td>\n",
       "      <td>0 - Sin Clasificar</td>\n",
       "      <td>0 - Sin Asignar</td>\n",
       "      <td>0.0</td>\n",
       "      <td>5.0</td>\n",
       "    </tr>\n",
       "    <tr>\n",
       "      <th>2</th>\n",
       "      <td>2</td>\n",
       "      <td>GDDESR-1342539995</td>\n",
       "      <td>2016-06-18</td>\n",
       "      <td>569.0</td>\n",
       "      <td>29.0</td>\n",
       "      <td>Sistema</td>\n",
       "      <td>Problema</td>\n",
       "      <td>0 - Sin Clasificar</td>\n",
       "      <td>0 - Sin Asignar</td>\n",
       "      <td>3.0</td>\n",
       "      <td>5.0</td>\n",
       "    </tr>\n",
       "    <tr>\n",
       "      <th>3</th>\n",
       "      <td>3</td>\n",
       "      <td>GDDTSR-5942488006</td>\n",
       "      <td>2016-04-28</td>\n",
       "      <td>320.0</td>\n",
       "      <td>40.0</td>\n",
       "      <td>Sistema</td>\n",
       "      <td>Solicitud</td>\n",
       "      <td>0 - Sin Clasificar</td>\n",
       "      <td>0 - Sin Asignar</td>\n",
       "      <td>9.0</td>\n",
       "      <td>5.0</td>\n",
       "    </tr>\n",
       "    <tr>\n",
       "      <th>4</th>\n",
       "      <td>4</td>\n",
       "      <td>GDLEER-0042524120</td>\n",
       "      <td>2016-06-03</td>\n",
       "      <td>1842.0</td>\n",
       "      <td>31.0</td>\n",
       "      <td>Software</td>\n",
       "      <td>Problema</td>\n",
       "      <td>2 - Normal</td>\n",
       "      <td>0 - Sin Asignar</td>\n",
       "      <td>0.0</td>\n",
       "      <td>5.0</td>\n",
       "    </tr>\n",
       "  </tbody>\n",
       "</table>\n",
       "</div>"
      ],
      "text/plain": [
       "   Unnamed: 0          id_ticket       fecha  id_empleado  id_agente  \\\n",
       "0           0  GDDENR-5042564453  2016-07-13       1735.0        4.0   \n",
       "1           1  GDDENR-8042508060  2016-05-18       1566.0       10.0   \n",
       "2           2  GDDESR-1342539995  2016-06-18        569.0       29.0   \n",
       "3           3  GDDTSR-5942488006  2016-04-28        320.0       40.0   \n",
       "4           4  GDLEER-0042524120  2016-06-03       1842.0       31.0   \n",
       "\n",
       "       categoría       tipo           severidad        prioridad  \\\n",
       "0  Acceso&%Login   Problema  0 - Sin Clasificar  0 - Sin Asignar   \n",
       "1  Acceso&%Login   Problema  0 - Sin Clasificar  0 - Sin Asignar   \n",
       "2        Sistema   Problema  0 - Sin Clasificar  0 - Sin Asignar   \n",
       "3        Sistema  Solicitud  0 - Sin Clasificar  0 - Sin Asignar   \n",
       "4       Software   Problema          2 - Normal  0 - Sin Asignar   \n",
       "\n",
       "   días_resolución  satisfacción  \n",
       "0              0.0           5.0  \n",
       "1              0.0           5.0  \n",
       "2              3.0           5.0  \n",
       "3              9.0           5.0  \n",
       "4              0.0           5.0  "
      ]
     },
     "execution_count": 6,
     "metadata": {},
     "output_type": "execute_result"
    }
   ],
   "source": [
    "df_tickets = pd.read_csv(\"data/union_años.csv\")\n",
    "df_tickets.head()"
   ]
  },
  {
   "cell_type": "code",
   "execution_count": 7,
   "metadata": {},
   "outputs": [
    {
     "data": {
      "text/plain": [
       "Solicitud    73219\n",
       "Problema     24278\n",
       "Name: tipo, dtype: int64"
      ]
     },
     "execution_count": 7,
     "metadata": {},
     "output_type": "execute_result"
    }
   ],
   "source": [
    "num_tipo = df_tickets['tipo'].value_counts()\n",
    "num_tipo"
   ]
  },
  {
   "cell_type": "code",
   "execution_count": 8,
   "metadata": {},
   "outputs": [
    {
     "data": {
      "text/html": [
       "<div>\n",
       "<style scoped>\n",
       "    .dataframe tbody tr th:only-of-type {\n",
       "        vertical-align: middle;\n",
       "    }\n",
       "\n",
       "    .dataframe tbody tr th {\n",
       "        vertical-align: top;\n",
       "    }\n",
       "\n",
       "    .dataframe thead th {\n",
       "        text-align: right;\n",
       "    }\n",
       "</style>\n",
       "<table border=\"1\" class=\"dataframe\">\n",
       "  <thead>\n",
       "    <tr style=\"text-align: right;\">\n",
       "      <th></th>\n",
       "      <th>Unnamed: 0</th>\n",
       "      <th>id_ticket</th>\n",
       "      <th>fecha</th>\n",
       "      <th>id_empleado</th>\n",
       "      <th>id_agente</th>\n",
       "      <th>categoría</th>\n",
       "      <th>tipo</th>\n",
       "      <th>severidad</th>\n",
       "      <th>prioridad</th>\n",
       "      <th>días_resolución</th>\n",
       "      <th>satisfacción</th>\n",
       "    </tr>\n",
       "  </thead>\n",
       "  <tbody>\n",
       "    <tr>\n",
       "      <th>4</th>\n",
       "      <td>4</td>\n",
       "      <td>GDLEER-0042524120</td>\n",
       "      <td>2016-06-03</td>\n",
       "      <td>1842.0</td>\n",
       "      <td>31.0</td>\n",
       "      <td>Software</td>\n",
       "      <td>Problema</td>\n",
       "      <td>2 - Normal</td>\n",
       "      <td>0 - Sin Asignar</td>\n",
       "      <td>0.0</td>\n",
       "      <td>5.0</td>\n",
       "    </tr>\n",
       "    <tr>\n",
       "      <th>5</th>\n",
       "      <td>5</td>\n",
       "      <td>GDLEER-0142608095</td>\n",
       "      <td>2016-08-26</td>\n",
       "      <td>59.0</td>\n",
       "      <td>20.0</td>\n",
       "      <td>Software</td>\n",
       "      <td>Problema</td>\n",
       "      <td>2 - Normal</td>\n",
       "      <td>0 - Sin Asignar</td>\n",
       "      <td>1.0</td>\n",
       "      <td>1.0</td>\n",
       "    </tr>\n",
       "    <tr>\n",
       "      <th>6</th>\n",
       "      <td>6</td>\n",
       "      <td>GDLEER-0242564650</td>\n",
       "      <td>2016-07-13</td>\n",
       "      <td>1175.0</td>\n",
       "      <td>36.0</td>\n",
       "      <td>Software</td>\n",
       "      <td>Problema</td>\n",
       "      <td>2 - Normal</td>\n",
       "      <td>0 - Sin Asignar</td>\n",
       "      <td>2.0</td>\n",
       "      <td>1.0</td>\n",
       "    </tr>\n",
       "    <tr>\n",
       "      <th>7</th>\n",
       "      <td>7</td>\n",
       "      <td>GDLEER-0542574815</td>\n",
       "      <td>2016-07-23</td>\n",
       "      <td>561.0</td>\n",
       "      <td>18.0</td>\n",
       "      <td>Software</td>\n",
       "      <td>Problema</td>\n",
       "      <td>2 - Normal</td>\n",
       "      <td>0 - Sin Asignar</td>\n",
       "      <td>5.0</td>\n",
       "      <td>5.0</td>\n",
       "    </tr>\n",
       "    <tr>\n",
       "      <th>8</th>\n",
       "      <td>8</td>\n",
       "      <td>GDLEER-0842457219</td>\n",
       "      <td>2016-03-28</td>\n",
       "      <td>71.0</td>\n",
       "      <td>12.0</td>\n",
       "      <td>Software</td>\n",
       "      <td>Problema</td>\n",
       "      <td>2 - Normal</td>\n",
       "      <td>0 - Sin Asignar</td>\n",
       "      <td>8.0</td>\n",
       "      <td>5.0</td>\n",
       "    </tr>\n",
       "  </tbody>\n",
       "</table>\n",
       "</div>"
      ],
      "text/plain": [
       "   Unnamed: 0          id_ticket       fecha  id_empleado  id_agente  \\\n",
       "4           4  GDLEER-0042524120  2016-06-03       1842.0       31.0   \n",
       "5           5  GDLEER-0142608095  2016-08-26         59.0       20.0   \n",
       "6           6  GDLEER-0242564650  2016-07-13       1175.0       36.0   \n",
       "7           7  GDLEER-0542574815  2016-07-23        561.0       18.0   \n",
       "8           8  GDLEER-0842457219  2016-03-28         71.0       12.0   \n",
       "\n",
       "  categoría      tipo   severidad        prioridad  días_resolución  \\\n",
       "4  Software  Problema  2 - Normal  0 - Sin Asignar              0.0   \n",
       "5  Software  Problema  2 - Normal  0 - Sin Asignar              1.0   \n",
       "6  Software  Problema  2 - Normal  0 - Sin Asignar              2.0   \n",
       "7  Software  Problema  2 - Normal  0 - Sin Asignar              5.0   \n",
       "8  Software  Problema  2 - Normal  0 - Sin Asignar              8.0   \n",
       "\n",
       "   satisfacción  \n",
       "4           5.0  \n",
       "5           1.0  \n",
       "6           1.0  \n",
       "7           5.0  \n",
       "8           5.0  "
      ]
     },
     "execution_count": 8,
     "metadata": {},
     "output_type": "execute_result"
    }
   ],
   "source": [
    "num_sofware = df_tickets[df_tickets['categoría'] == 'Software']\n",
    "num_sofware.head()"
   ]
  },
  {
   "cell_type": "code",
   "execution_count": 9,
   "metadata": {},
   "outputs": [
    {
     "data": {
      "text/html": [
       "<div>\n",
       "<style scoped>\n",
       "    .dataframe tbody tr th:only-of-type {\n",
       "        vertical-align: middle;\n",
       "    }\n",
       "\n",
       "    .dataframe tbody tr th {\n",
       "        vertical-align: top;\n",
       "    }\n",
       "\n",
       "    .dataframe thead th {\n",
       "        text-align: right;\n",
       "    }\n",
       "</style>\n",
       "<table border=\"1\" class=\"dataframe\">\n",
       "  <thead>\n",
       "    <tr style=\"text-align: right;\">\n",
       "      <th></th>\n",
       "      <th>Unnamed: 0</th>\n",
       "      <th>id_ticket</th>\n",
       "      <th>fecha</th>\n",
       "      <th>id_empleado</th>\n",
       "      <th>id_agente</th>\n",
       "      <th>categoría</th>\n",
       "      <th>tipo</th>\n",
       "      <th>severidad</th>\n",
       "      <th>prioridad</th>\n",
       "      <th>días_resolución</th>\n",
       "      <th>satisfacción</th>\n",
       "    </tr>\n",
       "  </thead>\n",
       "  <tbody>\n",
       "    <tr>\n",
       "      <th>4</th>\n",
       "      <td>4</td>\n",
       "      <td>GDLEER-0042524120</td>\n",
       "      <td>2016-06-03</td>\n",
       "      <td>1842.0</td>\n",
       "      <td>31.0</td>\n",
       "      <td>Software</td>\n",
       "      <td>Problema</td>\n",
       "      <td>2 - Normal</td>\n",
       "      <td>0 - Sin Asignar</td>\n",
       "      <td>0.0</td>\n",
       "      <td>5.0</td>\n",
       "    </tr>\n",
       "    <tr>\n",
       "      <th>5</th>\n",
       "      <td>5</td>\n",
       "      <td>GDLEER-0142608095</td>\n",
       "      <td>2016-08-26</td>\n",
       "      <td>59.0</td>\n",
       "      <td>20.0</td>\n",
       "      <td>Software</td>\n",
       "      <td>Problema</td>\n",
       "      <td>2 - Normal</td>\n",
       "      <td>0 - Sin Asignar</td>\n",
       "      <td>1.0</td>\n",
       "      <td>1.0</td>\n",
       "    </tr>\n",
       "    <tr>\n",
       "      <th>6</th>\n",
       "      <td>6</td>\n",
       "      <td>GDLEER-0242564650</td>\n",
       "      <td>2016-07-13</td>\n",
       "      <td>1175.0</td>\n",
       "      <td>36.0</td>\n",
       "      <td>Software</td>\n",
       "      <td>Problema</td>\n",
       "      <td>2 - Normal</td>\n",
       "      <td>0 - Sin Asignar</td>\n",
       "      <td>2.0</td>\n",
       "      <td>1.0</td>\n",
       "    </tr>\n",
       "    <tr>\n",
       "      <th>7</th>\n",
       "      <td>7</td>\n",
       "      <td>GDLEER-0542574815</td>\n",
       "      <td>2016-07-23</td>\n",
       "      <td>561.0</td>\n",
       "      <td>18.0</td>\n",
       "      <td>Software</td>\n",
       "      <td>Problema</td>\n",
       "      <td>2 - Normal</td>\n",
       "      <td>0 - Sin Asignar</td>\n",
       "      <td>5.0</td>\n",
       "      <td>5.0</td>\n",
       "    </tr>\n",
       "    <tr>\n",
       "      <th>8</th>\n",
       "      <td>8</td>\n",
       "      <td>GDLEER-0842457219</td>\n",
       "      <td>2016-03-28</td>\n",
       "      <td>71.0</td>\n",
       "      <td>12.0</td>\n",
       "      <td>Software</td>\n",
       "      <td>Problema</td>\n",
       "      <td>2 - Normal</td>\n",
       "      <td>0 - Sin Asignar</td>\n",
       "      <td>8.0</td>\n",
       "      <td>5.0</td>\n",
       "    </tr>\n",
       "  </tbody>\n",
       "</table>\n",
       "</div>"
      ],
      "text/plain": [
       "   Unnamed: 0          id_ticket       fecha  id_empleado  id_agente  \\\n",
       "4           4  GDLEER-0042524120  2016-06-03       1842.0       31.0   \n",
       "5           5  GDLEER-0142608095  2016-08-26         59.0       20.0   \n",
       "6           6  GDLEER-0242564650  2016-07-13       1175.0       36.0   \n",
       "7           7  GDLEER-0542574815  2016-07-23        561.0       18.0   \n",
       "8           8  GDLEER-0842457219  2016-03-28         71.0       12.0   \n",
       "\n",
       "  categoría      tipo   severidad        prioridad  días_resolución  \\\n",
       "4  Software  Problema  2 - Normal  0 - Sin Asignar              0.0   \n",
       "5  Software  Problema  2 - Normal  0 - Sin Asignar              1.0   \n",
       "6  Software  Problema  2 - Normal  0 - Sin Asignar              2.0   \n",
       "7  Software  Problema  2 - Normal  0 - Sin Asignar              5.0   \n",
       "8  Software  Problema  2 - Normal  0 - Sin Asignar              8.0   \n",
       "\n",
       "   satisfacción  \n",
       "4           5.0  \n",
       "5           1.0  \n",
       "6           1.0  \n",
       "7           5.0  \n",
       "8           5.0  "
      ]
     },
     "execution_count": 9,
     "metadata": {},
     "output_type": "execute_result"
    }
   ],
   "source": [
    "nuevo_df = pd.DataFrame(num_sofware)\n",
    "nuevo_df.head()"
   ]
  },
  {
   "cell_type": "code",
   "execution_count": 10,
   "metadata": {},
   "outputs": [
    {
     "data": {
      "text/html": [
       "<div>\n",
       "<style scoped>\n",
       "    .dataframe tbody tr th:only-of-type {\n",
       "        vertical-align: middle;\n",
       "    }\n",
       "\n",
       "    .dataframe tbody tr th {\n",
       "        vertical-align: top;\n",
       "    }\n",
       "\n",
       "    .dataframe thead th {\n",
       "        text-align: right;\n",
       "    }\n",
       "</style>\n",
       "<table border=\"1\" class=\"dataframe\">\n",
       "  <thead>\n",
       "    <tr style=\"text-align: right;\">\n",
       "      <th></th>\n",
       "      <th>index</th>\n",
       "      <th>tipo</th>\n",
       "    </tr>\n",
       "  </thead>\n",
       "  <tbody>\n",
       "    <tr>\n",
       "      <th>0</th>\n",
       "      <td>Solicitud</td>\n",
       "      <td>14634</td>\n",
       "    </tr>\n",
       "    <tr>\n",
       "      <th>1</th>\n",
       "      <td>Problema</td>\n",
       "      <td>4931</td>\n",
       "    </tr>\n",
       "  </tbody>\n",
       "</table>\n",
       "</div>"
      ],
      "text/plain": [
       "       index   tipo\n",
       "0  Solicitud  14634\n",
       "1   Problema   4931"
      ]
     },
     "execution_count": 10,
     "metadata": {},
     "output_type": "execute_result"
    }
   ],
   "source": [
    "grafica_tipo = pd.DataFrame(nuevo_df['tipo'].value_counts())\n",
    "grafica_tipo.reset_index(inplace = True)\n",
    "grafica_tipo"
   ]
  },
  {
   "cell_type": "code",
   "execution_count": 11,
   "metadata": {},
   "outputs": [
    {
     "data": {
      "image/png": "[encoded data removed]",
      "text/plain": [
       "<Figure size 432x288 with 1 Axes>"
      ]
     },
     "metadata": {
      "needs_background": "light"
     },
     "output_type": "display_data"
    }
   ],
   "source": [
    "plt.figure()\n",
    "plt.bar(grafica_tipo['index'],grafica_tipo['tipo'])\n",
    "plt.show()"
   ]
  },
  {
   "cell_type": "code",
   "execution_count": 12,
   "metadata": {},
   "outputs": [
    {
     "data": {
      "image/png": "[encoded data removed]",
      "text/plain": [
       "<Figure size 432x288 with 1 Axes>"
      ]
     },
     "metadata": {
      "needs_background": "light"
     },
     "output_type": "display_data"
    }
   ],
   "source": [
    "plt.figure()\n",
    "plt.scatter(nuevo_df[\"satisfacción\"], nuevo_df[\"días_resolución\"])\n",
    "plt.xlabel('satisfacción_cliente')\n",
    "plt.ylabel('días_resolución')\n",
    "plt.show()"
   ]
  },
  {
   "cell_type": "code",
   "execution_count": 13,
   "metadata": {},
   "outputs": [],
   "source": [
    "satis1 = pd.DataFrame(nuevo_df['satisfacción'].value_counts())\n",
    "satis1.reset_index(inplace = True)"
   ]
  },
  {
   "cell_type": "code",
   "execution_count": 14,
   "metadata": {},
   "outputs": [
    {
     "data": {
      "text/html": [
       "<div>\n",
       "<style scoped>\n",
       "    .dataframe tbody tr th:only-of-type {\n",
       "        vertical-align: middle;\n",
       "    }\n",
       "\n",
       "    .dataframe tbody tr th {\n",
       "        vertical-align: top;\n",
       "    }\n",
       "\n",
       "    .dataframe thead th {\n",
       "        text-align: right;\n",
       "    }\n",
       "</style>\n",
       "<table border=\"1\" class=\"dataframe\">\n",
       "  <thead>\n",
       "    <tr style=\"text-align: right;\">\n",
       "      <th></th>\n",
       "      <th>index</th>\n",
       "      <th>satisfacción</th>\n",
       "    </tr>\n",
       "  </thead>\n",
       "  <tbody>\n",
       "    <tr>\n",
       "      <th>0</th>\n",
       "      <td>5.0</td>\n",
       "      <td>10240</td>\n",
       "    </tr>\n",
       "    <tr>\n",
       "      <th>1</th>\n",
       "      <td>4.0</td>\n",
       "      <td>5494</td>\n",
       "    </tr>\n",
       "    <tr>\n",
       "      <th>2</th>\n",
       "      <td>1.0</td>\n",
       "      <td>1972</td>\n",
       "    </tr>\n",
       "    <tr>\n",
       "      <th>3</th>\n",
       "      <td>3.0</td>\n",
       "      <td>1468</td>\n",
       "    </tr>\n",
       "    <tr>\n",
       "      <th>4</th>\n",
       "      <td>2.0</td>\n",
       "      <td>388</td>\n",
       "    </tr>\n",
       "  </tbody>\n",
       "</table>\n",
       "</div>"
      ],
      "text/plain": [
       "   index  satisfacción\n",
       "0    5.0         10240\n",
       "1    4.0          5494\n",
       "2    1.0          1972\n",
       "3    3.0          1468\n",
       "4    2.0           388"
      ]
     },
     "execution_count": 14,
     "metadata": {},
     "output_type": "execute_result"
    }
   ],
   "source": [
    "satis1"
   ]
  },
  {
   "cell_type": "code",
   "execution_count": 15,
   "metadata": {},
   "outputs": [
    {
     "data": {
      "image/png": "[encoded data removed]",
      "text/plain": [
       "<Figure size 432x288 with 1 Axes>"
      ]
     },
     "metadata": {},
     "output_type": "display_data"
    }
   ],
   "source": [
    "plt.figure()\n",
    "plt.pie(satis1[\"satisfacción\"], labels=satis1[\"index\"], radius= 1)\n",
    "plt.show()"
   ]
  },
  {
   "cell_type": "code",
   "execution_count": 16,
   "metadata": {},
   "outputs": [
    {
     "data": {
      "text/html": [
       "<div>\n",
       "<style scoped>\n",
       "    .dataframe tbody tr th:only-of-type {\n",
       "        vertical-align: middle;\n",
       "    }\n",
       "\n",
       "    .dataframe tbody tr th {\n",
       "        vertical-align: top;\n",
       "    }\n",
       "\n",
       "    .dataframe thead th {\n",
       "        text-align: right;\n",
       "    }\n",
       "</style>\n",
       "<table border=\"1\" class=\"dataframe\">\n",
       "  <thead>\n",
       "    <tr style=\"text-align: right;\">\n",
       "      <th></th>\n",
       "      <th>Unnamed: 0</th>\n",
       "      <th>id_ticket</th>\n",
       "      <th>fecha</th>\n",
       "      <th>id_empleado</th>\n",
       "      <th>id_agente</th>\n",
       "      <th>categoría</th>\n",
       "      <th>tipo</th>\n",
       "      <th>severidad</th>\n",
       "      <th>prioridad</th>\n",
       "      <th>días_resolución</th>\n",
       "      <th>satisfacción</th>\n",
       "    </tr>\n",
       "  </thead>\n",
       "  <tbody>\n",
       "    <tr>\n",
       "      <th>15</th>\n",
       "      <td>15</td>\n",
       "      <td>GDLEER-2342731423</td>\n",
       "      <td>2016-12-27</td>\n",
       "      <td>422.0</td>\n",
       "      <td>24.0</td>\n",
       "      <td>Hardware</td>\n",
       "      <td>Problema</td>\n",
       "      <td>2 - Normal</td>\n",
       "      <td>0 - Sin Asignar</td>\n",
       "      <td>10.0</td>\n",
       "      <td>5.0</td>\n",
       "    </tr>\n",
       "    <tr>\n",
       "      <th>18</th>\n",
       "      <td>18</td>\n",
       "      <td>GDLEER-3042628638</td>\n",
       "      <td>2016-09-15</td>\n",
       "      <td>1863.0</td>\n",
       "      <td>46.0</td>\n",
       "      <td>Hardware</td>\n",
       "      <td>Problema</td>\n",
       "      <td>2 - Normal</td>\n",
       "      <td>0 - Sin Asignar</td>\n",
       "      <td>9.0</td>\n",
       "      <td>5.0</td>\n",
       "    </tr>\n",
       "    <tr>\n",
       "      <th>25</th>\n",
       "      <td>25</td>\n",
       "      <td>GDLEER-3542665966</td>\n",
       "      <td>2016-10-22</td>\n",
       "      <td>1996.0</td>\n",
       "      <td>29.0</td>\n",
       "      <td>Hardware</td>\n",
       "      <td>Problema</td>\n",
       "      <td>2 - Normal</td>\n",
       "      <td>0 - Sin Asignar</td>\n",
       "      <td>5.0</td>\n",
       "      <td>5.0</td>\n",
       "    </tr>\n",
       "    <tr>\n",
       "      <th>27</th>\n",
       "      <td>27</td>\n",
       "      <td>GDLEER-3742656857</td>\n",
       "      <td>2016-10-13</td>\n",
       "      <td>1025.0</td>\n",
       "      <td>18.0</td>\n",
       "      <td>Hardware</td>\n",
       "      <td>Problema</td>\n",
       "      <td>2 - Normal</td>\n",
       "      <td>0 - Sin Asignar</td>\n",
       "      <td>7.0</td>\n",
       "      <td>5.0</td>\n",
       "    </tr>\n",
       "    <tr>\n",
       "      <th>28</th>\n",
       "      <td>28</td>\n",
       "      <td>GDLEER-4042683896</td>\n",
       "      <td>2016-11-09</td>\n",
       "      <td>1469.0</td>\n",
       "      <td>38.0</td>\n",
       "      <td>Hardware</td>\n",
       "      <td>Problema</td>\n",
       "      <td>2 - Normal</td>\n",
       "      <td>0 - Sin Asignar</td>\n",
       "      <td>13.0</td>\n",
       "      <td>5.0</td>\n",
       "    </tr>\n",
       "  </tbody>\n",
       "</table>\n",
       "</div>"
      ],
      "text/plain": [
       "    Unnamed: 0          id_ticket       fecha  id_empleado  id_agente  \\\n",
       "15          15  GDLEER-2342731423  2016-12-27        422.0       24.0   \n",
       "18          18  GDLEER-3042628638  2016-09-15       1863.0       46.0   \n",
       "25          25  GDLEER-3542665966  2016-10-22       1996.0       29.0   \n",
       "27          27  GDLEER-3742656857  2016-10-13       1025.0       18.0   \n",
       "28          28  GDLEER-4042683896  2016-11-09       1469.0       38.0   \n",
       "\n",
       "   categoría      tipo   severidad        prioridad  días_resolución  \\\n",
       "15  Hardware  Problema  2 - Normal  0 - Sin Asignar             10.0   \n",
       "18  Hardware  Problema  2 - Normal  0 - Sin Asignar              9.0   \n",
       "25  Hardware  Problema  2 - Normal  0 - Sin Asignar              5.0   \n",
       "27  Hardware  Problema  2 - Normal  0 - Sin Asignar              7.0   \n",
       "28  Hardware  Problema  2 - Normal  0 - Sin Asignar             13.0   \n",
       "\n",
       "    satisfacción  \n",
       "15           5.0  \n",
       "18           5.0  \n",
       "25           5.0  \n",
       "27           5.0  \n",
       "28           5.0  "
      ]
     },
     "execution_count": 16,
     "metadata": {},
     "output_type": "execute_result"
    }
   ],
   "source": [
    "num_hardware = df_tickets[df_tickets['categoría'] == 'Hardware']\n",
    "num_hardware.head()"
   ]
  },
  {
   "cell_type": "code",
   "execution_count": 17,
   "metadata": {},
   "outputs": [
    {
     "data": {
      "text/html": [
       "<div>\n",
       "<style scoped>\n",
       "    .dataframe tbody tr th:only-of-type {\n",
       "        vertical-align: middle;\n",
       "    }\n",
       "\n",
       "    .dataframe tbody tr th {\n",
       "        vertical-align: top;\n",
       "    }\n",
       "\n",
       "    .dataframe thead th {\n",
       "        text-align: right;\n",
       "    }\n",
       "</style>\n",
       "<table border=\"1\" class=\"dataframe\">\n",
       "  <thead>\n",
       "    <tr style=\"text-align: right;\">\n",
       "      <th></th>\n",
       "      <th>Unnamed: 0</th>\n",
       "      <th>id_ticket</th>\n",
       "      <th>fecha</th>\n",
       "      <th>id_empleado</th>\n",
       "      <th>id_agente</th>\n",
       "      <th>categoría</th>\n",
       "      <th>tipo</th>\n",
       "      <th>severidad</th>\n",
       "      <th>prioridad</th>\n",
       "      <th>días_resolución</th>\n",
       "      <th>satisfacción</th>\n",
       "    </tr>\n",
       "  </thead>\n",
       "  <tbody>\n",
       "    <tr>\n",
       "      <th>15</th>\n",
       "      <td>15</td>\n",
       "      <td>GDLEER-2342731423</td>\n",
       "      <td>2016-12-27</td>\n",
       "      <td>422.0</td>\n",
       "      <td>24.0</td>\n",
       "      <td>Hardware</td>\n",
       "      <td>Problema</td>\n",
       "      <td>2 - Normal</td>\n",
       "      <td>0 - Sin Asignar</td>\n",
       "      <td>10.0</td>\n",
       "      <td>5.0</td>\n",
       "    </tr>\n",
       "    <tr>\n",
       "      <th>18</th>\n",
       "      <td>18</td>\n",
       "      <td>GDLEER-3042628638</td>\n",
       "      <td>2016-09-15</td>\n",
       "      <td>1863.0</td>\n",
       "      <td>46.0</td>\n",
       "      <td>Hardware</td>\n",
       "      <td>Problema</td>\n",
       "      <td>2 - Normal</td>\n",
       "      <td>0 - Sin Asignar</td>\n",
       "      <td>9.0</td>\n",
       "      <td>5.0</td>\n",
       "    </tr>\n",
       "    <tr>\n",
       "      <th>25</th>\n",
       "      <td>25</td>\n",
       "      <td>GDLEER-3542665966</td>\n",
       "      <td>2016-10-22</td>\n",
       "      <td>1996.0</td>\n",
       "      <td>29.0</td>\n",
       "      <td>Hardware</td>\n",
       "      <td>Problema</td>\n",
       "      <td>2 - Normal</td>\n",
       "      <td>0 - Sin Asignar</td>\n",
       "      <td>5.0</td>\n",
       "      <td>5.0</td>\n",
       "    </tr>\n",
       "    <tr>\n",
       "      <th>27</th>\n",
       "      <td>27</td>\n",
       "      <td>GDLEER-3742656857</td>\n",
       "      <td>2016-10-13</td>\n",
       "      <td>1025.0</td>\n",
       "      <td>18.0</td>\n",
       "      <td>Hardware</td>\n",
       "      <td>Problema</td>\n",
       "      <td>2 - Normal</td>\n",
       "      <td>0 - Sin Asignar</td>\n",
       "      <td>7.0</td>\n",
       "      <td>5.0</td>\n",
       "    </tr>\n",
       "    <tr>\n",
       "      <th>28</th>\n",
       "      <td>28</td>\n",
       "      <td>GDLEER-4042683896</td>\n",
       "      <td>2016-11-09</td>\n",
       "      <td>1469.0</td>\n",
       "      <td>38.0</td>\n",
       "      <td>Hardware</td>\n",
       "      <td>Problema</td>\n",
       "      <td>2 - Normal</td>\n",
       "      <td>0 - Sin Asignar</td>\n",
       "      <td>13.0</td>\n",
       "      <td>5.0</td>\n",
       "    </tr>\n",
       "  </tbody>\n",
       "</table>\n",
       "</div>"
      ],
      "text/plain": [
       "    Unnamed: 0          id_ticket       fecha  id_empleado  id_agente  \\\n",
       "15          15  GDLEER-2342731423  2016-12-27        422.0       24.0   \n",
       "18          18  GDLEER-3042628638  2016-09-15       1863.0       46.0   \n",
       "25          25  GDLEER-3542665966  2016-10-22       1996.0       29.0   \n",
       "27          27  GDLEER-3742656857  2016-10-13       1025.0       18.0   \n",
       "28          28  GDLEER-4042683896  2016-11-09       1469.0       38.0   \n",
       "\n",
       "   categoría      tipo   severidad        prioridad  días_resolución  \\\n",
       "15  Hardware  Problema  2 - Normal  0 - Sin Asignar             10.0   \n",
       "18  Hardware  Problema  2 - Normal  0 - Sin Asignar              9.0   \n",
       "25  Hardware  Problema  2 - Normal  0 - Sin Asignar              5.0   \n",
       "27  Hardware  Problema  2 - Normal  0 - Sin Asignar              7.0   \n",
       "28  Hardware  Problema  2 - Normal  0 - Sin Asignar             13.0   \n",
       "\n",
       "    satisfacción  \n",
       "15           5.0  \n",
       "18           5.0  \n",
       "25           5.0  \n",
       "27           5.0  \n",
       "28           5.0  "
      ]
     },
     "execution_count": 17,
     "metadata": {},
     "output_type": "execute_result"
    }
   ],
   "source": [
    "nuevo_df_hard = pd.DataFrame(num_hardware)\n",
    "nuevo_df_hard.head()"
   ]
  },
  {
   "cell_type": "code",
   "execution_count": 18,
   "metadata": {},
   "outputs": [
    {
     "data": {
      "text/html": [
       "<div>\n",
       "<style scoped>\n",
       "    .dataframe tbody tr th:only-of-type {\n",
       "        vertical-align: middle;\n",
       "    }\n",
       "\n",
       "    .dataframe tbody tr th {\n",
       "        vertical-align: top;\n",
       "    }\n",
       "\n",
       "    .dataframe thead th {\n",
       "        text-align: right;\n",
       "    }\n",
       "</style>\n",
       "<table border=\"1\" class=\"dataframe\">\n",
       "  <thead>\n",
       "    <tr style=\"text-align: right;\">\n",
       "      <th></th>\n",
       "      <th>index</th>\n",
       "      <th>tipo</th>\n",
       "    </tr>\n",
       "  </thead>\n",
       "  <tbody>\n",
       "    <tr>\n",
       "      <th>0</th>\n",
       "      <td>Solicitud</td>\n",
       "      <td>7368</td>\n",
       "    </tr>\n",
       "    <tr>\n",
       "      <th>1</th>\n",
       "      <td>Problema</td>\n",
       "      <td>2364</td>\n",
       "    </tr>\n",
       "  </tbody>\n",
       "</table>\n",
       "</div>"
      ],
      "text/plain": [
       "       index  tipo\n",
       "0  Solicitud  7368\n",
       "1   Problema  2364"
      ]
     },
     "execution_count": 18,
     "metadata": {},
     "output_type": "execute_result"
    }
   ],
   "source": [
    "grafica_tipo2 = pd.DataFrame(nuevo_df_hard['tipo'].value_counts())\n",
    "grafica_tipo2.reset_index(inplace = True)\n",
    "grafica_tipo2"
   ]
  },
  {
   "cell_type": "code",
   "execution_count": 19,
   "metadata": {},
   "outputs": [
    {
     "data": {
      "image/png": "[encoded data removed]",
      "text/plain": [
       "<Figure size 432x288 with 1 Axes>"
      ]
     },
     "metadata": {
      "needs_background": "light"
     },
     "output_type": "display_data"
    }
   ],
   "source": [
    "plt.figure()\n",
    "plt.bar(grafica_tipo2['index'],grafica_tipo2['tipo'])\n",
    "plt.show()"
   ]
  },
  {
   "cell_type": "code",
   "execution_count": 20,
   "metadata": {},
   "outputs": [
    {
     "data": {
      "image/png": "[encoded data removed]",
      "text/plain": [
       "<Figure size 432x288 with 1 Axes>"
      ]
     },
     "metadata": {
      "needs_background": "light"
     },
     "output_type": "display_data"
    }
   ],
   "source": [
    "plt.figure()\n",
    "plt.scatter(nuevo_df_hard[\"satisfacción\"], nuevo_df_hard[\"días_resolución\"])\n",
    "plt.xlabel('satisfacción_cliente')\n",
    "plt.ylabel('días_resolución')\n",
    "plt.show()"
   ]
  },
  {
   "cell_type": "code",
   "execution_count": 21,
   "metadata": {},
   "outputs": [
    {
     "data": {
      "text/html": [
       "<div>\n",
       "<style scoped>\n",
       "    .dataframe tbody tr th:only-of-type {\n",
       "        vertical-align: middle;\n",
       "    }\n",
       "\n",
       "    .dataframe tbody tr th {\n",
       "        vertical-align: top;\n",
       "    }\n",
       "\n",
       "    .dataframe thead th {\n",
       "        text-align: right;\n",
       "    }\n",
       "</style>\n",
       "<table border=\"1\" class=\"dataframe\">\n",
       "  <thead>\n",
       "    <tr style=\"text-align: right;\">\n",
       "      <th></th>\n",
       "      <th>index</th>\n",
       "      <th>satisfacción</th>\n",
       "    </tr>\n",
       "  </thead>\n",
       "  <tbody>\n",
       "    <tr>\n",
       "      <th>0</th>\n",
       "      <td>5.0</td>\n",
       "      <td>5106</td>\n",
       "    </tr>\n",
       "    <tr>\n",
       "      <th>1</th>\n",
       "      <td>4.0</td>\n",
       "      <td>2691</td>\n",
       "    </tr>\n",
       "    <tr>\n",
       "      <th>2</th>\n",
       "      <td>1.0</td>\n",
       "      <td>1003</td>\n",
       "    </tr>\n",
       "    <tr>\n",
       "      <th>3</th>\n",
       "      <td>3.0</td>\n",
       "      <td>745</td>\n",
       "    </tr>\n",
       "    <tr>\n",
       "      <th>4</th>\n",
       "      <td>2.0</td>\n",
       "      <td>185</td>\n",
       "    </tr>\n",
       "  </tbody>\n",
       "</table>\n",
       "</div>"
      ],
      "text/plain": [
       "   index  satisfacción\n",
       "0    5.0          5106\n",
       "1    4.0          2691\n",
       "2    1.0          1003\n",
       "3    3.0           745\n",
       "4    2.0           185"
      ]
     },
     "execution_count": 21,
     "metadata": {},
     "output_type": "execute_result"
    }
   ],
   "source": [
    "satis2 = pd.DataFrame(nuevo_df_hard['satisfacción'].value_counts())\n",
    "satis2.reset_index(inplace = True)\n",
    "satis2"
   ]
  },
  {
   "cell_type": "code",
   "execution_count": 22,
   "metadata": {},
   "outputs": [
    {
     "data": {
      "image/png": "[encoded data removed]",
      "text/plain": [
       "<Figure size 432x288 with 1 Axes>"
      ]
     },
     "metadata": {},
     "output_type": "display_data"
    }
   ],
   "source": [
    "plt.figure()\n",
    "plt.pie(satis2[\"satisfacción\"], labels=satis1[\"index\"], radius= 1)\n",
    "plt.show()"
   ]
  },
  {
   "cell_type": "code",
   "execution_count": 39,
   "metadata": {},
   "outputs": [
    {
     "data": {
      "image/png": "[encoded data removed]",
      "text/plain": [
       "<Figure size 1080x360 with 2 Axes>"
      ]
     },
     "metadata": {
      "needs_background": "light"
     },
     "output_type": "display_data"
    },
    {
     "data": {
      "text/plain": [
       "<Figure size 432x288 with 0 Axes>"
      ]
     },
     "metadata": {},
     "output_type": "display_data"
    }
   ],
   "source": [
    "fig,ax = plt.subplots(1,2 , figsize = (15,5) )\n",
    "plt.figure()\n",
    "\n",
    "ax[0].bar(grafica_tipo2['index'],grafica_tipo2['tipo'], edgecolor = \"black\")\n",
    "ax[1].bar(grafica_tipo['index'],grafica_tipo['tipo'], edgecolor = \"black\")\n",
    "\n",
    "ax[0].set_title(\"tickets hardware\")\n",
    "ax[1].set_title(\"tickets software\")\n",
    "\n",
    "ax[0].set_xlabel(\" Tipos tickets hardware\")\n",
    "ax[0].set_ylabel(\"Número de tickets\")\n",
    "\n",
    "ax[1].set_xlabel(\" Tipos tickets software\")\n",
    "ax[1].set_ylabel(\"Número de tickets\")\n",
    "\n",
    "plt.show()"
   ]
  },
  {
   "cell_type": "code",
   "execution_count": 48,
   "metadata": {},
   "outputs": [
    {
     "data": {
      "image/png": "[encoded data removed]",
      "text/plain": [
       "<Figure size 360x1080 with 2 Axes>"
      ]
     },
     "metadata": {
      "needs_background": "light"
     },
     "output_type": "display_data"
    },
    {
     "data": {
      "text/plain": [
       "<Figure size 432x288 with 0 Axes>"
      ]
     },
     "metadata": {},
     "output_type": "display_data"
    }
   ],
   "source": [
    "fig,ax = plt.subplots(2,1 , figsize = (5,15) )\n",
    "plt.figure()\n",
    "\n",
    "ax[0].bar(satis1['index'],satis1['satisfacción'], edgecolor = \"black\", color = \"r\")\n",
    "ax[1].bar(satis2['index'],satis2['satisfacción'], edgecolor = \"black\", color = \"g\")\n",
    "\n",
    "ax[0].set_title(\"satifacción cliente hardware\")\n",
    "ax[1].set_title(\"satisfacción cliente software\")\n",
    "\n",
    "ax[0].set_xlabel(\"satisfacción hardware\")\n",
    "ax[0].set_ylabel(\"tickets\")\n",
    "\n",
    "ax[1].set_xlabel(\"satisfacción software\")\n",
    "ax[1].set_ylabel(\"tickets\")\n",
    "\n",
    "plt.show()"
   ]
  },
  {
   "cell_type": "code",
   "execution_count": 24,
   "metadata": {},
   "outputs": [
    {
     "data": {
      "text/plain": [
       "'\\n\\n2 Cread un subplot con dos gráficas, dónde en la primera tengamos el número de empleados por departamento y en la otra por tipo de puesto. Debéis:\\n    \\nPoner leyenda a la gráfica\\nCada línea debe ir en un color\\nPonerle nombre a los ejes y a la gráfica.\\nPoner marcadores a las lineas.\\n\\n\\n3 Guardad las figuras creadas en cada caso. Podéis usar el formato que queráis. Guarda todas las fotos en una carpeta llamada Visualizacion-II.\\n\\n'"
      ]
     },
     "execution_count": 24,
     "metadata": {},
     "output_type": "execute_result"
    }
   ],
   "source": [
    "\"\"\"\n",
    "\n",
    "2 Cread un subplot con dos gráficas, dónde en la primera tengamos el número de empleados por departamento y en la otra por tipo de puesto. Debéis:\n",
    "    \n",
    "Poner leyenda a la gráfica\n",
    "Cada línea debe ir en un color\n",
    "Ponerle nombre a los ejes y a la gráfica.\n",
    "Poner marcadores a las lineas.\n",
    "\n",
    "\n",
    "3 Guardad las figuras creadas en cada caso. Podéis usar el formato que queráis. Guarda todas las fotos en una carpeta llamada Visualizacion-II.\n",
    "\n",
    "\"\"\""
   ]
  },
  {
   "cell_type": "code",
   "execution_count": 60,
   "metadata": {},
   "outputs": [
    {
     "data": {
      "image/png": "[encoded data removed]",
      "text/plain": [
       "<Figure size 1440x720 with 2 Axes>"
      ]
     },
     "metadata": {
      "needs_background": "light"
     },
     "output_type": "display_data"
    },
    {
     "data": {
      "text/plain": [
       "<Figure size 432x288 with 0 Axes>"
      ]
     },
     "metadata": {},
     "output_type": "display_data"
    }
   ],
   "source": [
    "fig,ax = plt.subplots(2,1 , figsize = (20,10) )\n",
    "plt.figure()\n",
    "\n",
    "colores_dep = {\"PERSONAL\": \"lavender\", \"CONTABILIDAD\":\"pink\", \"AUDITORIA INTERNA, CALIBRACION Y METROLOGIA\": \"lightgreen\", \"SISTEMAS, TRAFICO Y ADUANAS\": \"bisque\", \"Recursos Humanos\" : \"lightseagreen\", \"MATERIALES\": \"skyblue\" , \"INGENIERIA DE MANUFACTURA\": \"salmon\", \"MANTENIMIENTO\": \"mediumpurple\", \"INGENIERIA DE CALIDAD\": \"steelblue\", \"PRODUCCION\" :\"peru\", \"CONTROL DE PRODUCCION\" : \"slateblue\"}\n",
    "colores_puest = {\"Gerencia\": \"lavender\", \"Operativo\":\"pink\", \"Mandos Medios\": \"lightgreen\", \"Administrativo\": \"bisque\"}\n",
    "\n",
    "\n",
    "\n",
    "ax[0].barh(df_puestos['Departamento'],df_puestos['ID Empleado'], color = df_puestos[\"Departamento\"].map(colores_dep))\n",
    "ax[1].barh(df_puestos['Tipo Puesto'],df_puestos['ID Empleado'], color = df_puestos[\"Tipo Puesto\"].map(colores_puest))\n",
    "\n",
    "ax[0].set_title(\"Empleados por departamentos\")\n",
    "ax[1].set_title(\"Empleados por tipo de puesto\")\n",
    "\n",
    "ax[0].set_xlabel(\"Empleados\")\n",
    "ax[0].set_ylabel(\"Departamentos\")\n",
    "\n",
    "ax[1].set_xlabel(\"Empleados\")\n",
    "ax[1].set_ylabel(\"Tipo Puesto\")\n",
    "\n",
    "plt.show()"
   ]
  },
  {
   "cell_type": "code",
   "execution_count": null,
   "metadata": {},
   "outputs": [],
   "source": [
    "# No hemos añadido la leyenda porque consideramos que cada apartado ya está definido en su eje y cada barra tiene su propio color para posibilitar las diferencias entre los datos."
   ]
  }
 ],
 "metadata": {
  "kernelspec": {
   "display_name": "base",
   "language": "python",
   "name": "python3"
  },
  "language_info": {
   "codemirror_mode": {
    "name": "ipython",
    "version": 3
   },
   "file_extension": ".py",
   "mimetype": "text/x-python",
   "name": "python",
   "nbconvert_exporter": "python",
   "pygments_lexer": "ipython3",
   "version": "3.9.7"
  },
  "orig_nbformat": 4
 },
 "nbformat": 4,
 "nbformat_minor": 2
}

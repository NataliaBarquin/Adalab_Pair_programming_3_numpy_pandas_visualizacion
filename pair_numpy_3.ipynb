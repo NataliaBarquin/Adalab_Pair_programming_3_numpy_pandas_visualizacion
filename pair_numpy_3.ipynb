{
 "cells": [
  {
   "cell_type": "code",
   "execution_count": 1,
   "metadata": {},
   "outputs": [],
   "source": [
    "import numpy as np"
   ]
  },
  {
   "cell_type": "code",
   "execution_count": 2,
   "metadata": {},
   "outputs": [
    {
     "data": {
      "text/plain": [
       "array([[[0.5, 0.9, 0.3, 0.4, 0.5],\n",
       "        [0.4, 1. , 0.7, 0.2, 0.7],\n",
       "        [0.9, 0.5, 0.5, 0.4, 0.5]],\n",
       "\n",
       "       [[0. , 0.1, 1. , 0. , 1. ],\n",
       "        [0.5, 0.3, 0.4, 0.7, 0.2],\n",
       "        [0.3, 0.2, 0.4, 0.3, 0.1]]])"
      ]
     },
     "execution_count": 2,
     "metadata": {},
     "output_type": "execute_result"
    }
   ],
   "source": [
    "multi = np.random.rand(2,3,5).round(1)\n",
    "multi"
   ]
  },
  {
   "cell_type": "code",
   "execution_count": 4,
   "metadata": {},
   "outputs": [
    {
     "data": {
      "text/plain": [
       "0.5"
      ]
     },
     "execution_count": 4,
     "metadata": {},
     "output_type": "execute_result"
    }
   ],
   "source": [
    "media = np.mean(multi).round(1)\n",
    "media"
   ]
  },
  {
   "cell_type": "code",
   "execution_count": 5,
   "metadata": {},
   "outputs": [
    {
     "data": {
      "text/plain": [
       "1.0"
      ]
     },
     "execution_count": 5,
     "metadata": {},
     "output_type": "execute_result"
    }
   ],
   "source": [
    "max = np.max(multi).round(1)\n",
    "max"
   ]
  },
  {
   "cell_type": "code",
   "execution_count": 6,
   "metadata": {},
   "outputs": [
    {
     "data": {
      "text/plain": [
       "0.0"
      ]
     },
     "execution_count": 6,
     "metadata": {},
     "output_type": "execute_result"
    }
   ],
   "source": [
    "min = np.min(multi).round(1)\n",
    "min"
   ]
  },
  {
   "cell_type": "code",
   "execution_count": 7,
   "metadata": {},
   "outputs": [
    {
     "data": {
      "text/plain": [
       "array([[['', '', '', '', ''],\n",
       "        ['', '', '', '', ''],\n",
       "        ['', '', '', '', '']],\n",
       "\n",
       "       [['', '', '', '', ''],\n",
       "        ['', '', '', '', ''],\n",
       "        ['', '', '', '', '']]], dtype='<U1')"
      ]
     },
     "execution_count": 7,
     "metadata": {},
     "output_type": "execute_result"
    }
   ],
   "source": [
    "multi2 = np.empty_like(multi, dtype= str)\n",
    "multi2"
   ]
  },
  {
   "cell_type": "code",
   "execution_count": 9,
   "metadata": {},
   "outputs": [
    {
     "ename": "IndexError",
     "evalue": "arrays used as indices must be of integer (or boolean) type",
     "output_type": "error",
     "traceback": [
      "\u001b[0;31m---------------------------------------------------------------------------\u001b[0m",
      "\u001b[0;31mIndexError\u001b[0m                                Traceback (most recent call last)",
      "\u001b[0;32m/tmp/ipykernel_670/1326837703.py\u001b[0m in \u001b[0;36m<module>\u001b[0;34m\u001b[0m\n\u001b[1;32m      2\u001b[0m  \u001b[0;32mfor\u001b[0m \u001b[0mfila\u001b[0m \u001b[0;32min\u001b[0m \u001b[0mmatriz\u001b[0m\u001b[0;34m:\u001b[0m\u001b[0;34m\u001b[0m\u001b[0;34m\u001b[0m\u001b[0m\n\u001b[1;32m      3\u001b[0m     \u001b[0;32mfor\u001b[0m \u001b[0mcolumn\u001b[0m \u001b[0;32min\u001b[0m \u001b[0mfila\u001b[0m\u001b[0;34m:\u001b[0m\u001b[0;34m\u001b[0m\u001b[0;34m\u001b[0m\u001b[0m\n\u001b[0;32m----> 4\u001b[0;31m         \u001b[0;32mif\u001b[0m \u001b[0mmulti\u001b[0m\u001b[0;34m[\u001b[0m\u001b[0mmatriz\u001b[0m\u001b[0;34m,\u001b[0m \u001b[0mfila\u001b[0m\u001b[0;34m,\u001b[0m \u001b[0mcolumn\u001b[0m\u001b[0;34m]\u001b[0m\u001b[0;34m==\u001b[0m \u001b[0mnp\u001b[0m\u001b[0;34m.\u001b[0m\u001b[0mmean\u001b[0m\u001b[0;34m(\u001b[0m\u001b[0mmulti\u001b[0m\u001b[0;34m)\u001b[0m\u001b[0;34m:\u001b[0m\u001b[0;34m\u001b[0m\u001b[0;34m\u001b[0m\u001b[0m\n\u001b[0m\u001b[1;32m      5\u001b[0m            \u001b[0mmulti2\u001b[0m\u001b[0;34m[\u001b[0m\u001b[0mmatriz\u001b[0m\u001b[0;34m,\u001b[0m \u001b[0mfila\u001b[0m\u001b[0;34m,\u001b[0m \u001b[0mcolumn\u001b[0m\u001b[0;34m]\u001b[0m \u001b[0;34m==\u001b[0m \u001b[0;34m\"A\"\u001b[0m\u001b[0;34m\u001b[0m\u001b[0;34m\u001b[0m\u001b[0m\n\u001b[1;32m      6\u001b[0m \u001b[0;34m\u001b[0m\u001b[0m\n",
      "\u001b[0;31mIndexError\u001b[0m: arrays used as indices must be of integer (or boolean) type"
     ]
    }
   ],
   "source": [
    "for matriz in multi:\n",
    " for fila in matriz:\n",
    "    for column in fila:\n",
    "        if multi[matriz, fila, column]== np.mean(multi):\n",
    "           multi2[matriz, fila, column] = \n",
    "            \n",
    "        #elif i> np.mean(multi):\n",
    "            \n",
    "    #    elif i < np.mean (multi):\n",
    "            \n",
    "     #   elif i == np.max(multi):\n",
    "            \n",
    "    #    elif i == np.min(multi): \n",
    "                \n",
    "                \n",
    "                \n",
    " "
   ]
  },
  {
   "cell_type": "code",
   "execution_count": 27,
   "metadata": {},
   "outputs": [
    {
     "ename": "IndexError",
     "evalue": "index 2 is out of bounds for axis 0 with size 2",
     "output_type": "error",
     "traceback": [
      "\u001b[0;31m---------------------------------------------------------------------------\u001b[0m",
      "\u001b[0;31mIndexError\u001b[0m                                Traceback (most recent call last)",
      "\u001b[0;32m/tmp/ipykernel_670/661983911.py\u001b[0m in \u001b[0;36m<module>\u001b[0;34m\u001b[0m\n\u001b[1;32m      1\u001b[0m \u001b[0;32mfor\u001b[0m \u001b[0mmatriz\u001b[0m \u001b[0;32min\u001b[0m \u001b[0mmulti\u001b[0m\u001b[0;34m[\u001b[0m\u001b[0;36m0\u001b[0m\u001b[0;34m]\u001b[0m\u001b[0;34m:\u001b[0m\u001b[0;34m\u001b[0m\u001b[0;34m\u001b[0m\u001b[0m\n\u001b[1;32m      2\u001b[0m     \u001b[0;32mfor\u001b[0m \u001b[0mfila\u001b[0m \u001b[0;32min\u001b[0m \u001b[0mmulti\u001b[0m\u001b[0;34m[\u001b[0m\u001b[0;36m1\u001b[0m\u001b[0;34m]\u001b[0m\u001b[0;34m:\u001b[0m\u001b[0;34m\u001b[0m\u001b[0;34m\u001b[0m\u001b[0m\n\u001b[0;32m----> 3\u001b[0;31m         \u001b[0;32mfor\u001b[0m \u001b[0mcolumn\u001b[0m \u001b[0;32min\u001b[0m \u001b[0mmulti\u001b[0m\u001b[0;34m[\u001b[0m\u001b[0;36m2\u001b[0m\u001b[0;34m]\u001b[0m\u001b[0;34m:\u001b[0m\u001b[0;34m\u001b[0m\u001b[0;34m\u001b[0m\u001b[0m\n\u001b[0m\u001b[1;32m      4\u001b[0m              \u001b[0;32mif\u001b[0m \u001b[0mmulti\u001b[0m\u001b[0;34m[\u001b[0m\u001b[0mmatriz\u001b[0m\u001b[0;34m,\u001b[0m \u001b[0mfila\u001b[0m\u001b[0;34m,\u001b[0m \u001b[0mcolumn\u001b[0m\u001b[0;34m]\u001b[0m\u001b[0;34m==\u001b[0m \u001b[0mnp\u001b[0m\u001b[0;34m.\u001b[0m\u001b[0mmean\u001b[0m\u001b[0;34m(\u001b[0m\u001b[0mmulti\u001b[0m\u001b[0;34m)\u001b[0m\u001b[0;34m:\u001b[0m\u001b[0;34m\u001b[0m\u001b[0;34m\u001b[0m\u001b[0m\n\u001b[1;32m      5\u001b[0m                 \u001b[0mmulti2\u001b[0m\u001b[0;34m[\u001b[0m\u001b[0mmatriz\u001b[0m\u001b[0;34m]\u001b[0m\u001b[0;34m[\u001b[0m\u001b[0mfila\u001b[0m\u001b[0;34m]\u001b[0m\u001b[0;34m[\u001b[0m\u001b[0mcolumn\u001b[0m\u001b[0;34m]\u001b[0m \u001b[0;34m=\u001b[0m \u001b[0;34m\"A\"\u001b[0m\u001b[0;34m\u001b[0m\u001b[0;34m\u001b[0m\u001b[0m\n",
      "\u001b[0;31mIndexError\u001b[0m: index 2 is out of bounds for axis 0 with size 2"
     ]
    }
   ],
   "source": [
    "for matriz in multi[0]:\n",
    "    for fila in multi[1]:\n",
    "        for column in multi[2]:\n",
    "             if multi[matriz, fila, column]== np.mean(multi):\n",
    "                multi2[matriz][fila][column] = \"A\"\n",
    "         \n",
    "            # \n",
    "              \n",
    "              "
   ]
  },
  {
   "cell_type": "code",
   "execution_count": 23,
   "metadata": {},
   "outputs": [
    {
     "data": {
      "text/plain": [
       "array([[['', '', '', '', ''],\n",
       "        ['', '', '', '', ''],\n",
       "        ['', '', '', '', '']],\n",
       "\n",
       "       [['', '', '', '', ''],\n",
       "        ['', '', '', '', ''],\n",
       "        ['', '', '', '', '']]], dtype='<U1')"
      ]
     },
     "execution_count": 23,
     "metadata": {},
     "output_type": "execute_result"
    }
   ],
   "source": [
    "multi2"
   ]
  },
  {
   "cell_type": "code",
   "execution_count": null,
   "metadata": {},
   "outputs": [],
   "source": [
    "   for capa in range(multi2.shape[0]):\n",
    "     for fila in range(multi2.shape[1]):\n",
    "      for col in range(multi2.shape[2]):\n",
    "                \n",
    "                \n",
    "       if multi[capa, fila, col] == mean_value:\n",
    "                \n",
    "                multi2[capmulti2[capa, fila, col] = \n",
    "\"A\"\n",
    "\n",
    "elif multi[capa, fila, col] > mean_value:\n",
    "                multi2[capa, fila, col] = \n",
    "                multi2[cap\n",
    "\n",
    "                multi2[\n",
    "\n",
    "                multi\n",
    "\n",
    "               \n",
    "\"B\"\n",
    "            \n",
    "           \n",
    "elif multi[capa, fila, col] < mean_value:\n",
    "                multi2[capa, fila, col] = \n",
    "                multi2[cap\n",
    "\n",
    "                multi2[\n",
    "\n",
    "               \n",
    "\"C\"\n",
    "            \n",
    "           \n",
    "if multi[capa, fila, col] == max_value:\n",
    "                multi2[capa, fila, col] = \n",
    "                multi2[capa, fila, col\n",
    "\n",
    "               \n",
    "\"D\"\n",
    "            elif multi[capa, fila, col] == min_value:\n",
    "                multi2[capa, fila, col] = \n",
    "                multi2[capa\n",
    "\n",
    "                multi2[cap\n",
    "\n",
    "                multi2[\n",
    "\n",
    "                multi\n",
    "\n",
    "               \n",
    "\"E\""
   ]
  },
  {
   "cell_type": "code",
   "execution_count": null,
   "metadata": {},
   "outputs": [],
   "source": [
    "array[i] devuelve el indice i;los indices de los unidimensionales funcionan igual que las listas.\u000barray[i, j] o array[i][j] devuelve el elemento de la columna j de la fila i.\u000barray[:,:n] seleccionar todas las filas y las columnas hasta n-1.array[h, i, j] o array[h][i][j] devuelve el elemento de la columna j de la fila i del array h.array[h][i][j] = n cambiar el valor del elemento en esta posicion al valor n."
   ]
  },
  {
   "cell_type": "code",
   "execution_count": null,
   "metadata": {},
   "outputs": [],
   "source": [
    "# Recorremos las filas y columnas del array multi usando dos bucles for\n",
    "# La variable 'fila' representará el índice de la fila y 'col' el índice de la columna\n",
    "for fila in range(multi2.shape[0]):\n",
    "    for col in range(multi2.shape[1]):"
   ]
  },
  {
   "cell_type": "code",
   "execution_count": null,
   "metadata": {},
   "outputs": [],
   "source": [
    "\n",
    "\n",
    "\n",
    "\n",
    "# Recorremos las matrices, filas y columnas del array multi2 usando tres bucles for\n",
    "for matriz in range(multi2.shape[0]):\n",
    "    \n",
    "   \n",
    "for fila in range(multi2.shape[1]):\n",
    "        \n",
    "       \n",
    "for column in range(multi2.shape[2]):\n",
    "            \n",
    "           \n",
    "# Redondeamos la media a 2 decimales antes de compararla con los elementos de multi\n",
    "            \n",
    "           \n",
    "if multi[matriz, fila, column] == np.round(np.mean(multi), 2):\n",
    "                multi2[matriz][fila][column] = \n",
    "                multi2[matriz][fila\n",
    "\n",
    "                multi2[matriz\n",
    "\n",
    "                multi2\n",
    "\"A\""
   ]
  },
  {
   "cell_type": "code",
   "execution_count": null,
   "metadata": {},
   "outputs": [],
   "source": [
    "\n",
    "# Supongamos que multi es el array original ya creado con los valores numéricos\n",
    "# y deseamos crear multi2 con los valores modificados según las condiciones.\n",
    "\n",
    "# Calculamos la media, el valor máximo y el valor mínimo del array multi\n",
    "mean_value = np.mean(multi)\n",
    "max_value = np.\n",
    "mean_value = np.mean(multi)\n",
    "max(multi)\n",
    "min_value = np.min(multi)\n",
    "\n",
    "# Creamos un array vacío con las mismas dimensiones que multi, pero dtype 'str'\n",
    "multi2 = np.empty_like(multi, dtype=\n",
    "multi2 =\n",
    "\n",
    "multi2\n",
    "\n",
    "multi\n",
    "str)\n",
    "\n",
    "# Recorremos las filas, columnas y capas del array multi usando tres bucles for\n",
    "for capa in range(multi2.shape[0]):\n",
    "    for fila in range(multi2.shape[1]):\n",
    "        \n",
    "       \n",
    "for col in range(multi2.shape[2]):\n",
    "            \n",
    "           \n",
    "# Comparamos los valores numéricos con las condiciones y asignamos los valores al nuevo array\n",
    "            \n",
    "           \n",
    "if multi[capa, fila, col] == mean_value:\n",
    "                multi2[capa, fila, col] = \n",
    "                multi2[cap\n",
    "\"A\"\n",
    "            \n",
    "           \n",
    "elif multi[capa, fila, col] > mean_value:\n",
    "                multi2[capa, fila, col] = \n",
    "                multi2[cap\n",
    "\n",
    "                multi2[\n",
    "\n",
    "                multi\n",
    "\n",
    "               \n",
    "\"B\"\n",
    "            \n",
    "           \n",
    "elif multi[capa, fila, col] < mean_value:\n",
    "                multi2[capa, fila, col] = \n",
    "                multi2[cap\n",
    "\n",
    "                multi2[\n",
    "\n",
    "               \n",
    "\"C\"\n",
    "            \n",
    "           \n",
    "if multi[capa, fila, col] == max_value:\n",
    "                multi2[capa, fila, col] = \n",
    "                multi2[capa, fila, col\n",
    "\n",
    "               \n",
    "\"D\"\n",
    "            elif multi[capa, fila, col] == min_value:\n",
    "                multi2[capa, fila, col] = \n",
    "                multi2[capa\n",
    "\n",
    "                multi2[cap\n",
    "\n",
    "                multi2[\n",
    "\n",
    "                multi\n",
    "\n",
    "               \n",
    "\"E\"\n",
    "\n",
    "# Ahora el array multi2 estará lleno con las mismas dimensiones que multi,\n",
    "# pero con los valores modificados según las condiciones especificadas.\n",
    "print(multi2)"
   ]
  }
 ],
 "metadata": {
  "kernelspec": {
   "display_name": "base",
   "language": "python",
   "name": "python3"
  },
  "language_info": {
   "codemirror_mode": {
    "name": "ipython",
    "version": 3
   },
   "file_extension": ".py",
   "mimetype": "text/x-python",
   "name": "python",
   "nbconvert_exporter": "python",
   "pygments_lexer": "ipython3",
   "version": "3.9.7"
  },
  "orig_nbformat": 4
 },
 "nbformat": 4,
 "nbformat_minor": 2
}

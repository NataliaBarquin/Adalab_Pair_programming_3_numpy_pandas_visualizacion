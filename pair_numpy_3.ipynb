{
 "cells": [
  {
   "cell_type": "code",
   "execution_count": 1,
   "metadata": {},
   "outputs": [],
   "source": [
    "import numpy as np"
   ]
  },
  {
   "cell_type": "code",
   "execution_count": 30,
   "metadata": {},
   "outputs": [
    {
     "data": {
      "text/plain": [
       "array([[[0.7, 0. , 0. , 0.4, 0.9],\n",
       "        [0.6, 0.2, 0.8, 1. , 0.3],\n",
       "        [0.2, 0.3, 0.2, 0.2, 0.4]],\n",
       "\n",
       "       [[0.9, 0.8, 0.7, 0.4, 0. ],\n",
       "        [0.5, 1. , 0.7, 0.8, 0.6],\n",
       "        [0.4, 0.7, 0.1, 0.8, 0.8]]])"
      ]
     },
     "execution_count": 30,
     "metadata": {},
     "output_type": "execute_result"
    }
   ],
   "source": [
    "multi = np.random.rand(2,3,5).round(1)\n",
    "multi"
   ]
  },
  {
   "cell_type": "code",
   "execution_count": 31,
   "metadata": {},
   "outputs": [
    {
     "data": {
      "text/plain": [
       "0.5"
      ]
     },
     "execution_count": 31,
     "metadata": {},
     "output_type": "execute_result"
    }
   ],
   "source": [
    "media = np.mean(multi).round(1)\n",
    "media"
   ]
  },
  {
   "cell_type": "code",
   "execution_count": 32,
   "metadata": {},
   "outputs": [
    {
     "data": {
      "text/plain": [
       "1.0"
      ]
     },
     "execution_count": 32,
     "metadata": {},
     "output_type": "execute_result"
    }
   ],
   "source": [
    "max = np.max(multi).round(1)\n",
    "max"
   ]
  },
  {
   "cell_type": "code",
   "execution_count": 33,
   "metadata": {},
   "outputs": [
    {
     "data": {
      "text/plain": [
       "0.0"
      ]
     },
     "execution_count": 33,
     "metadata": {},
     "output_type": "execute_result"
    }
   ],
   "source": [
    "min = np.min(multi).round(1)\n",
    "min"
   ]
  },
  {
   "cell_type": "code",
   "execution_count": 6,
   "metadata": {},
   "outputs": [
    {
     "data": {
      "text/plain": [
       "array([[['', '', '', '', ''],\n",
       "        ['', '', '', '', ''],\n",
       "        ['', '', '', '', '']],\n",
       "\n",
       "       [['', '', '', '', ''],\n",
       "        ['', '', '', '', ''],\n",
       "        ['', '', '', '', '']]], dtype='<U1')"
      ]
     },
     "execution_count": 6,
     "metadata": {},
     "output_type": "execute_result"
    }
   ],
   "source": [
    "multi2 = np.empty_like(multi, dtype= str)\n",
    "multi2"
   ]
  },
  {
   "cell_type": "code",
   "execution_count": 34,
   "metadata": {},
   "outputs": [],
   "source": [
    "for matriz in range(multi.shape[0]):\n",
    "    for fila in range(multi.shape[1]):\n",
    "        for column in range(multi.shape[2]):\n",
    "            if multi[matriz, fila, column] == np.mean(multi):\n",
    "                multi2[matriz][fila][column] = \"A\"\n",
    "            \n",
    "            elif  multi[matriz, fila, column] == np.max(multi):\n",
    "                  multi2[matriz][fila][column] = \"D\"\n",
    "                  \n",
    "            elif  multi[matriz, fila, column] == np.min(multi):\n",
    "                  multi2[matriz][fila][column] = \"E\"\n",
    "                \n",
    "            elif  multi[matriz, fila, column] > np.mean(multi):\n",
    "                  multi2[matriz][fila][column] = \"B\"\n",
    "                  \n",
    "            elif  multi[matriz, fila, column] < np.mean(multi):\n",
    "                  multi2[matriz][fila][column] = \"C\"\n",
    "                  \n",
    "            \n",
    "            \n",
    "           "
   ]
  },
  {
   "cell_type": "code",
   "execution_count": 35,
   "metadata": {},
   "outputs": [
    {
     "data": {
      "text/plain": [
       "array([[['B', 'E', 'E', 'C', 'B'],\n",
       "        ['B', 'C', 'B', 'D', 'C'],\n",
       "        ['C', 'C', 'C', 'C', 'C']],\n",
       "\n",
       "       [['B', 'B', 'B', 'C', 'E'],\n",
       "        ['C', 'D', 'B', 'B', 'B'],\n",
       "        ['C', 'B', 'C', 'B', 'B']]], dtype='<U1')"
      ]
     },
     "execution_count": 35,
     "metadata": {},
     "output_type": "execute_result"
    }
   ],
   "source": [
    "multi2"
   ]
  }
 ],
 "metadata": {
  "kernelspec": {
   "display_name": "base",
   "language": "python",
   "name": "python3"
  },
  "language_info": {
   "codemirror_mode": {
    "name": "ipython",
    "version": 3
   },
   "file_extension": ".py",
   "mimetype": "text/x-python",
   "name": "python",
   "nbconvert_exporter": "python",
   "pygments_lexer": "ipython3",
   "version": "3.9.7"
  },
  "orig_nbformat": 4
 },
 "nbformat": 4,
 "nbformat_minor": 2
}

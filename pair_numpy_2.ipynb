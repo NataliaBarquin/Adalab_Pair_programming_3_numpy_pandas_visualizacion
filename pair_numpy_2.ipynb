{
 "cells": [
  {
   "cell_type": "code",
   "execution_count": 1,
   "metadata": {},
   "outputs": [],
   "source": [
    "import numpy as np"
   ]
  },
  {
   "cell_type": "markdown",
   "metadata": {},
   "source": [
    "Ejercicio 1"
   ]
  },
  {
   "cell_type": "code",
   "execution_count": 4,
   "metadata": {},
   "outputs": [
    {
     "data": {
      "text/plain": [
       "array([[0.2 , 0.01, 0.08],\n",
       "       [0.35, 0.5 , 0.48],\n",
       "       [0.5 , 0.3 , 0.54],\n",
       "       [0.55, 0.72, 0.19],\n",
       "       [0.38, 0.31, 0.31]])"
      ]
     },
     "execution_count": 4,
     "metadata": {},
     "output_type": "execute_result"
    }
   ],
   "source": [
    "bidimensional = np.random.rand(5,3).round(2)\n",
    "bidimensional"
   ]
  },
  {
   "cell_type": "code",
   "execution_count": 5,
   "metadata": {},
   "outputs": [
    {
     "data": {
      "text/plain": [
       "0.01"
      ]
     },
     "execution_count": 5,
     "metadata": {},
     "output_type": "execute_result"
    }
   ],
   "source": [
    "bidimensional[0,1]"
   ]
  },
  {
   "cell_type": "code",
   "execution_count": 6,
   "metadata": {},
   "outputs": [
    {
     "data": {
      "text/plain": [
       "array([0.35, 0.5 ])"
      ]
     },
     "execution_count": 6,
     "metadata": {},
     "output_type": "execute_result"
    }
   ],
   "source": [
    "bidimensional[1,:2]"
   ]
  },
  {
   "cell_type": "code",
   "execution_count": 8,
   "metadata": {},
   "outputs": [
    {
     "data": {
      "text/plain": [
       "array([[0.2 , 0.01, 0.08],\n",
       "       [0.5 , 0.3 , 0.54],\n",
       "       [0.38, 0.31, 0.31]])"
      ]
     },
     "execution_count": 8,
     "metadata": {},
     "output_type": "execute_result"
    }
   ],
   "source": [
    "bidimensional[0::2,:]"
   ]
  },
  {
   "cell_type": "code",
   "execution_count": 9,
   "metadata": {},
   "outputs": [
    {
     "data": {
      "text/plain": [
       "array([0.54, 0.55, 0.72])"
      ]
     },
     "execution_count": 9,
     "metadata": {},
     "output_type": "execute_result"
    }
   ],
   "source": [
    "bidimensional[bidimensional > 0.5]"
   ]
  },
  {
   "cell_type": "code",
   "execution_count": 10,
   "metadata": {},
   "outputs": [
    {
     "data": {
      "text/plain": [
       "array([0.01, 0.08, 0.54, 0.55, 0.72, 0.19])"
      ]
     },
     "execution_count": 10,
     "metadata": {},
     "output_type": "execute_result"
    }
   ],
   "source": [
    "valor1 = bidimensional < 0.2\n",
    "valor2 = bidimensional > 0.5\n",
    "bidimensional[valor1 | valor2]"
   ]
  },
  {
   "cell_type": "markdown",
   "metadata": {},
   "source": [
    "Ejercicio 2"
   ]
  },
  {
   "cell_type": "code",
   "execution_count": 11,
   "metadata": {},
   "outputs": [
    {
     "data": {
      "text/plain": [
       "array([[[10, 39, 38],\n",
       "        [38, 27,  9],\n",
       "        [19, 42, 14],\n",
       "        [37, 17,  8],\n",
       "        [17, 36, 31]],\n",
       "\n",
       "       [[30, 13, 12],\n",
       "        [ 5, 37, 45],\n",
       "        [31, 49, 21],\n",
       "        [22,  0, 16],\n",
       "        [48, 34,  6]]])"
      ]
     },
     "execution_count": 11,
     "metadata": {},
     "output_type": "execute_result"
    }
   ],
   "source": [
    "multidimensional1 = np.random.randint(0,50, (2,5,3))\n",
    "multidimensional1"
   ]
  },
  {
   "cell_type": "code",
   "execution_count": 12,
   "metadata": {},
   "outputs": [
    {
     "data": {
      "text/plain": [
       "array([[[35, 15,  1,  2, 26],\n",
       "        [44, 35, 43, 44, 34]],\n",
       "\n",
       "       [[24, 19,  7, 10, 33],\n",
       "        [12, 23, 12, 13, 15]],\n",
       "\n",
       "       [[22, 35,  2, 46, 40],\n",
       "        [28,  7, 15,  0, 43]]])"
      ]
     },
     "execution_count": 12,
     "metadata": {},
     "output_type": "execute_result"
    }
   ],
   "source": [
    "multidimensional2 = np.random.randint(0,50, (3,2,5))\n",
    "multidimensional2"
   ]
  },
  {
   "cell_type": "code",
   "execution_count": 13,
   "metadata": {},
   "outputs": [],
   "source": [
    "def obtener_propiedades(array):\n",
    "    num_dimensiones = array.ndim\n",
    "    tamaño_total = array.size\n",
    "    tipo_datos = array.dtype\n",
    "    propiedades = {\n",
    "        'número dimensiones': num_dimensiones,\n",
    "        'tamaño del array': tamaño_total,\n",
    "        'tipo de datos': tipo_datos,\n",
    "    }\n",
    "    return propiedades"
   ]
  },
  {
   "cell_type": "code",
   "execution_count": 14,
   "metadata": {},
   "outputs": [
    {
     "data": {
      "text/plain": [
       "{'número dimensiones': 3,\n",
       " 'tamaño del array': 30,\n",
       " 'tipo de datos': dtype('int64')}"
      ]
     },
     "execution_count": 14,
     "metadata": {},
     "output_type": "execute_result"
    }
   ],
   "source": [
    "obtener_propiedades(multidimensional1)"
   ]
  },
  {
   "cell_type": "code",
   "execution_count": 15,
   "metadata": {},
   "outputs": [
    {
     "data": {
      "text/plain": [
       "{'número dimensiones': 3,\n",
       " 'tamaño del array': 30,\n",
       " 'tipo de datos': dtype('int64')}"
      ]
     },
     "execution_count": 15,
     "metadata": {},
     "output_type": "execute_result"
    }
   ],
   "source": [
    "obtener_propiedades(multidimensional2)"
   ]
  },
  {
   "cell_type": "code",
   "execution_count": 16,
   "metadata": {},
   "outputs": [
    {
     "ename": "ValueError",
     "evalue": "operands could not be broadcast together with shapes (2,5,3) (3,2,5) ",
     "output_type": "error",
     "traceback": [
      "\u001b[0;31m---------------------------------------------------------------------------\u001b[0m",
      "\u001b[0;31mValueError\u001b[0m                                Traceback (most recent call last)",
      "Cell \u001b[0;32mIn[16], line 1\u001b[0m\n\u001b[0;32m----> 1\u001b[0m sum_multi \u001b[39m=\u001b[39m multidimensional1 \u001b[39m+\u001b[39;49m multidimensional2\n",
      "\u001b[0;31mValueError\u001b[0m: operands could not be broadcast together with shapes (2,5,3) (3,2,5) "
     ]
    }
   ],
   "source": [
    "sum_multi = multidimensional1 + multidimensional2"
   ]
  },
  {
   "cell_type": "markdown",
   "metadata": {},
   "source": [
    "No se puede, porque el número de matrices es diferente."
   ]
  },
  {
   "cell_type": "code",
   "execution_count": 20,
   "metadata": {},
   "outputs": [
    {
     "data": {
      "text/plain": [
       "array([[[10, 38, 19, 37, 17],\n",
       "        [30,  5, 31, 22, 48]],\n",
       "\n",
       "       [[39, 27, 42, 17, 36],\n",
       "        [13, 37, 49,  0, 34]],\n",
       "\n",
       "       [[38,  9, 14,  8, 31],\n",
       "        [12, 45, 21, 16,  6]]])"
      ]
     },
     "execution_count": 20,
     "metadata": {},
     "output_type": "execute_result"
    }
   ],
   "source": [
    "#con método transpose\n",
    "multi1_modify = np.transpose(multidimensional1, (2,0,1))\n",
    "multi1_modify"
   ]
  },
  {
   "cell_type": "code",
   "execution_count": 26,
   "metadata": {},
   "outputs": [
    {
     "data": {
      "text/plain": [
       "array([[[45, 53, 20, 39, 43],\n",
       "        [74, 40, 74, 66, 82]],\n",
       "\n",
       "       [[63, 46, 49, 27, 69],\n",
       "        [25, 60, 61, 13, 49]],\n",
       "\n",
       "       [[60, 44, 16, 54, 71],\n",
       "        [40, 52, 36, 16, 49]]])"
      ]
     },
     "execution_count": 26,
     "metadata": {},
     "output_type": "execute_result"
    }
   ],
   "source": [
    "sum_multi = multi1_modify + multidimensional2\n",
    "sum_multi "
   ]
  },
  {
   "cell_type": "code",
   "execution_count": 24,
   "metadata": {},
   "outputs": [
    {
     "data": {
      "text/plain": [
       "array([[[35, 15,  1],\n",
       "        [ 2, 26, 44],\n",
       "        [35, 43, 44],\n",
       "        [34, 24, 19],\n",
       "        [ 7, 10, 33]],\n",
       "\n",
       "       [[12, 23, 12],\n",
       "        [13, 15, 22],\n",
       "        [35,  2, 46],\n",
       "        [40, 28,  7],\n",
       "        [15,  0, 43]]])"
      ]
     },
     "execution_count": 24,
     "metadata": {},
     "output_type": "execute_result"
    }
   ],
   "source": [
    "#con método reshape\n",
    "multi2_modify = np.reshape(multidimensional2, (2,5,3))\n",
    "multi2_modify"
   ]
  },
  {
   "cell_type": "code",
   "execution_count": 27,
   "metadata": {},
   "outputs": [
    {
     "data": {
      "text/plain": [
       "array([[[45, 54, 39],\n",
       "        [40, 53, 53],\n",
       "        [54, 85, 58],\n",
       "        [71, 41, 27],\n",
       "        [24, 46, 64]],\n",
       "\n",
       "       [[42, 36, 24],\n",
       "        [18, 52, 67],\n",
       "        [66, 51, 67],\n",
       "        [62, 28, 23],\n",
       "        [63, 34, 49]]])"
      ]
     },
     "execution_count": 27,
     "metadata": {},
     "output_type": "execute_result"
    }
   ],
   "source": [
    "sum_multi2 = multi2_modify + multidimensional1\n",
    "sum_multi2 "
   ]
  }
 ],
 "metadata": {
  "kernelspec": {
   "display_name": "adalabenv",
   "language": "python",
   "name": "python3"
  },
  "language_info": {
   "codemirror_mode": {
    "name": "ipython",
    "version": 3
   },
   "file_extension": ".py",
   "mimetype": "text/x-python",
   "name": "python",
   "nbconvert_exporter": "python",
   "pygments_lexer": "ipython3",
   "version": "3.10.11"
  },
  "orig_nbformat": 4
 },
 "nbformat": 4,
 "nbformat_minor": 2
}

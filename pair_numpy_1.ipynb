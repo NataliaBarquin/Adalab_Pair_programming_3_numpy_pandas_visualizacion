{
 "cells": [
  {
   "cell_type": "markdown",
   "metadata": {},
   "source": [
    "Ejercicio 1."
   ]
  },
  {
   "cell_type": "code",
   "execution_count": 1,
   "metadata": {},
   "outputs": [],
   "source": [
    "import numpy as np"
   ]
  },
  {
   "cell_type": "code",
   "execution_count": 2,
   "metadata": {},
   "outputs": [
    {
     "data": {
      "text/plain": [
       "array([12,  7])"
      ]
     },
     "execution_count": 2,
     "metadata": {},
     "output_type": "execute_result"
    }
   ],
   "source": [
    "array1 = np.random.randint(1,15, (2))\n",
    "array1"
   ]
  },
  {
   "cell_type": "code",
   "execution_count": 3,
   "metadata": {},
   "outputs": [
    {
     "data": {
      "text/plain": [
       "array([[ 2, 14,  1],\n",
       "       [ 9, 10,  9]])"
      ]
     },
     "execution_count": 3,
     "metadata": {},
     "output_type": "execute_result"
    }
   ],
   "source": [
    "array2 = np.random.randint(1,15, (2,3))\n",
    "array2"
   ]
  },
  {
   "cell_type": "code",
   "execution_count": 4,
   "metadata": {},
   "outputs": [
    {
     "data": {
      "text/plain": [
       "array([[[ 8,  1, 10,  4,  6],\n",
       "        [ 9,  5,  5, 14, 12],\n",
       "        [12, 14,  5, 11, 10]],\n",
       "\n",
       "       [[ 1,  4, 14,  2,  4],\n",
       "        [10,  4,  8, 14,  7],\n",
       "        [14,  9,  2,  2,  5]]])"
      ]
     },
     "execution_count": 4,
     "metadata": {},
     "output_type": "execute_result"
    }
   ],
   "source": [
    "array3 = np.random.randint(1,15, (2,3,5))\n",
    "array3"
   ]
  },
  {
   "cell_type": "markdown",
   "metadata": {},
   "source": [
    "Ejercicio 2"
   ]
  },
  {
   "cell_type": "code",
   "execution_count": 5,
   "metadata": {},
   "outputs": [
    {
     "data": {
      "text/plain": [
       "<function RandomState.random_sample>"
      ]
     },
     "execution_count": 5,
     "metadata": {},
     "output_type": "execute_result"
    }
   ],
   "source": [
    "np.random.random_sample\n",
    "\n",
    "\n",
    "\n",
    "\n"
   ]
  },
  {
   "cell_type": "code",
   "execution_count": 6,
   "metadata": {},
   "outputs": [
    {
     "data": {
      "text/plain": [
       "<function numpy.array>"
      ]
     },
     "execution_count": 6,
     "metadata": {},
     "output_type": "execute_result"
    }
   ],
   "source": [
    "np.array"
   ]
  },
  {
   "cell_type": "code",
   "execution_count": 7,
   "metadata": {},
   "outputs": [
    {
     "data": {
      "text/plain": [
       "1"
      ]
     },
     "execution_count": 7,
     "metadata": {},
     "output_type": "execute_result"
    }
   ],
   "source": [
    "array1.ndim"
   ]
  },
  {
   "cell_type": "code",
   "execution_count": 8,
   "metadata": {},
   "outputs": [
    {
     "data": {
      "text/plain": [
       "array([[1, 1, 1],\n",
       "       [1, 1, 1]])"
      ]
     },
     "execution_count": 8,
     "metadata": {},
     "output_type": "execute_result"
    }
   ],
   "source": [
    "np.ones_like(array2)"
   ]
  },
  {
   "cell_type": "code",
   "execution_count": 9,
   "metadata": {},
   "outputs": [
    {
     "data": {
      "text/plain": [
       "array([[0, 0, 0],\n",
       "       [0, 0, 0]])"
      ]
     },
     "execution_count": 9,
     "metadata": {},
     "output_type": "execute_result"
    }
   ],
   "source": [
    "np.zeros_like(array2)"
   ]
  },
  {
   "cell_type": "code",
   "execution_count": 10,
   "metadata": {},
   "outputs": [
    {
     "data": {
      "text/plain": [
       "array([[4.04738577e-320, 1.77863633e-321, 0.00000000e+000,\n",
       "        1.58276815e-316, 4.94065646e-324, 1.58276894e-316,\n",
       "        1.58278119e-316],\n",
       "       [1.18575755e-322, 6.93144708e-310, 4.24399158e-314,\n",
       "        5.81021200e-321, 4.94065646e-324, 4.24399158e-314,\n",
       "        1.03753786e-322],\n",
       "       [1.58276934e-316, 6.93144830e-310, 6.93128705e-310,\n",
       "        4.94065646e-324, 1.69759663e-313, 4.94065646e-324,\n",
       "        1.58277487e-316],\n",
       "       [1.58277526e-316, 1.18575755e-322, 6.93144295e-310,\n",
       "        6.36598737e-314, 1.69759663e-313, 1.90979621e-313,\n",
       "        3.18299369e-313],\n",
       "       [0.00000000e+000, 1.58277843e-316, 0.00000000e+000,\n",
       "        1.69759663e-313, 1.58277171e-316, 1.58277408e-316,\n",
       "        1.58277764e-316],\n",
       "       [4.94065646e-324, 3.39519327e-313, 3.18299369e-313,\n",
       "        1.58277882e-316, 1.58279266e-316, 2.47032823e-323,\n",
       "        0.00000000e+000],\n",
       "       [5.58788245e-321, 1.58279266e-316, 4.94065646e-324,\n",
       "        3.39519327e-313, 9.88131292e-324, 1.58276815e-316,\n",
       "        2.47032823e-323],\n",
       "       [1.58278317e-316, 5.59776377e-321, 1.58279266e-316,\n",
       "        2.47032823e-323, 1.58278475e-316, 5.60270442e-321,\n",
       "        1.58279266e-316],\n",
       "       [6.93128705e-310, 1.58278633e-316, 5.60764508e-321,\n",
       "        1.58279266e-316, 2.47032823e-323, 1.58278791e-316,\n",
       "        5.62740771e-321],\n",
       "       [1.58279266e-316, 2.47032823e-323, 1.58278949e-316,\n",
       "        1.18575755e-322, 6.93144295e-310, 4.94065646e-324,\n",
       "        1.48219694e-323],\n",
       "       [1.90979621e-313, 3.18299369e-313, 1.18575755e-322,\n",
       "        6.93144295e-310, 6.93128705e-310, 1.11778736e-316,\n",
       "        1.90979621e-313],\n",
       "       [3.18299369e-313, 5.62246705e-321, 1.58279266e-316,\n",
       "        2.47032823e-323, 1.58279107e-316, 5.61258574e-321,\n",
       "        1.58279266e-316]])"
      ]
     },
     "execution_count": 10,
     "metadata": {},
     "output_type": "execute_result"
    }
   ],
   "source": [
    "np.empty(array1)"
   ]
  },
  {
   "cell_type": "code",
   "execution_count": 11,
   "metadata": {},
   "outputs": [
    {
     "data": {
      "text/plain": [
       "array([[[       21338680,               0, 140294074970032,\n",
       "         140294076593712, 140294076020208],\n",
       "        [140294076727216, 140294054252272, 140294073593200,\n",
       "         140294053088592, 140294076596912],\n",
       "        [140294076614256, 140294076591216, 140294076192816,\n",
       "         140294076898288, 140294053070864]],\n",
       "\n",
       "       [[140294076200432, 140294076019888, 140294076591024,\n",
       "         140294076449456, 140294072877360],\n",
       "        [140294076893488, 140294076460784, 140294076460848,\n",
       "         140294076621616, 140294076613232],\n",
       "        [140294076321136, 140294073927024, 140294076907376,\n",
       "         140294076620144, 140294076595760]]])"
      ]
     },
     "execution_count": 11,
     "metadata": {},
     "output_type": "execute_result"
    }
   ],
   "source": [
    "np.empty_like(array3)"
   ]
  },
  {
   "cell_type": "code",
   "execution_count": 12,
   "metadata": {},
   "outputs": [],
   "source": [
    "def obtener_propiedades(array):\n",
    "    num_dimensiones = array.ndim\n",
    "    tamaño_total = array.size\n",
    "    tipo_datos = array.dtype\n",
    "    propiedades = {\n",
    "        'número dimensiones': num_dimensiones,\n",
    "        'tamaño del array': tamaño_total,\n",
    "        'tipo de datos': tipo_datos,\n",
    "    }\n",
    "    return propiedades"
   ]
  },
  {
   "cell_type": "code",
   "execution_count": 13,
   "metadata": {},
   "outputs": [
    {
     "data": {
      "text/plain": [
       "{'número dimensiones': 1,\n",
       " 'tamaño del array': 2,\n",
       " 'tipo de datos': dtype('int64')}"
      ]
     },
     "execution_count": 13,
     "metadata": {},
     "output_type": "execute_result"
    }
   ],
   "source": [
    "obtener_propiedades(array1)"
   ]
  },
  {
   "cell_type": "code",
   "execution_count": 14,
   "metadata": {},
   "outputs": [
    {
     "data": {
      "text/plain": [
       "{'número dimensiones': 2,\n",
       " 'tamaño del array': 6,\n",
       " 'tipo de datos': dtype('int64')}"
      ]
     },
     "execution_count": 14,
     "metadata": {},
     "output_type": "execute_result"
    }
   ],
   "source": [
    "obtener_propiedades(array2)"
   ]
  },
  {
   "cell_type": "code",
   "execution_count": 15,
   "metadata": {},
   "outputs": [
    {
     "data": {
      "text/plain": [
       "{'número dimensiones': 3,\n",
       " 'tamaño del array': 30,\n",
       " 'tipo de datos': dtype('int64')}"
      ]
     },
     "execution_count": 15,
     "metadata": {},
     "output_type": "execute_result"
    }
   ],
   "source": [
    "obtener_propiedades(array3)"
   ]
  },
  {
   "cell_type": "markdown",
   "metadata": {},
   "source": [
    "Ejercicio 3"
   ]
  },
  {
   "cell_type": "code",
   "execution_count": 22,
   "metadata": {},
   "outputs": [
    {
     "data": {
      "text/plain": [
       "array([[2, 3, 3],\n",
       "       [4, 5, 6],\n",
       "       [7, 8, 9]])"
      ]
     },
     "execution_count": 22,
     "metadata": {},
     "output_type": "execute_result"
    }
   ],
   "source": [
    "matriz_identidad = np.array([[2,3,3],[4,5,6],[7,8,9]])\n",
    "matriz_identidad"
   ]
  },
  {
   "cell_type": "markdown",
   "metadata": {},
   "source": [
    "Ejercicio 4"
   ]
  },
  {
   "cell_type": "code",
   "execution_count": 23,
   "metadata": {},
   "outputs": [
    {
     "data": {
      "text/plain": [
       "array([[[ 8,  1, 10,  4,  6],\n",
       "        [ 9,  5,  5, 14, 12],\n",
       "        [12, 14,  5, 11, 10]],\n",
       "\n",
       "       [[ 1,  4, 14,  2,  4],\n",
       "        [10,  4,  8, 14,  7],\n",
       "        [14,  9,  2,  2,  5]]])"
      ]
     },
     "execution_count": 23,
     "metadata": {},
     "output_type": "execute_result"
    }
   ],
   "source": [
    "array3"
   ]
  },
  {
   "cell_type": "code",
   "execution_count": 25,
   "metadata": {},
   "outputs": [
    {
     "data": {
      "text/plain": [
       "array([[[1, 1, 1, 1, 1],\n",
       "        [1, 1, 1, 1, 1],\n",
       "        [1, 1, 1, 1, 1]],\n",
       "\n",
       "       [[1, 1, 1, 1, 1],\n",
       "        [1, 1, 1, 1, 1],\n",
       "        [1, 1, 1, 1, 1]]])"
      ]
     },
     "execution_count": 25,
     "metadata": {},
     "output_type": "execute_result"
    }
   ],
   "source": [
    "array3_ones = np.ones_like(array3)\n",
    "array3_ones"
   ]
  },
  {
   "cell_type": "markdown",
   "metadata": {},
   "source": [
    "Ejercicio 5"
   ]
  },
  {
   "cell_type": "code",
   "execution_count": 26,
   "metadata": {},
   "outputs": [
    {
     "data": {
      "text/plain": [
       "array([[ 2, 14,  1],\n",
       "       [ 9, 10,  9]])"
      ]
     },
     "execution_count": 26,
     "metadata": {},
     "output_type": "execute_result"
    }
   ],
   "source": [
    "array2"
   ]
  },
  {
   "cell_type": "code",
   "execution_count": 27,
   "metadata": {},
   "outputs": [
    {
     "data": {
      "text/plain": [
       "array([[2, 3, 3],\n",
       "       [4, 5, 6],\n",
       "       [7, 8, 9]])"
      ]
     },
     "execution_count": 27,
     "metadata": {},
     "output_type": "execute_result"
    }
   ],
   "source": [
    "matriz_identidad"
   ]
  },
  {
   "cell_type": "markdown",
   "metadata": {},
   "source": [
    "No se pueden sumar porque tienen filas diferentes"
   ]
  },
  {
   "cell_type": "code",
   "execution_count": 29,
   "metadata": {},
   "outputs": [],
   "source": [
    "matriz_identidad2 = np.array([[2,5,3],[6,5,8],[2,8,9]])"
   ]
  },
  {
   "cell_type": "code",
   "execution_count": 31,
   "metadata": {},
   "outputs": [
    {
     "data": {
      "text/plain": [
       "array([[ 4,  8,  6],\n",
       "       [10, 10, 14],\n",
       "       [ 9, 16, 18]])"
      ]
     },
     "execution_count": 31,
     "metadata": {},
     "output_type": "execute_result"
    }
   ],
   "source": [
    "suma_matrices = matriz_identidad + matriz_identidad2\n",
    "suma_matrices"
   ]
  },
  {
   "cell_type": "code",
   "execution_count": 32,
   "metadata": {},
   "outputs": [
    {
     "data": {
      "text/plain": [
       "array([[  8,  24,  18],\n",
       "       [ 40,  50,  84],\n",
       "       [ 63, 128, 162]])"
      ]
     },
     "execution_count": 32,
     "metadata": {},
     "output_type": "execute_result"
    }
   ],
   "source": [
    "multi_matrices = matriz_identidad * suma_matrices\n",
    "multi_matrices"
   ]
  },
  {
   "cell_type": "code",
   "execution_count": 33,
   "metadata": {},
   "outputs": [
    {
     "data": {
      "text/plain": [
       "array([[0.5       , 0.375     , 0.5       ],\n",
       "       [0.4       , 0.5       , 0.42857143],\n",
       "       [0.77777778, 0.5       , 0.5       ]])"
      ]
     },
     "execution_count": 33,
     "metadata": {},
     "output_type": "execute_result"
    }
   ],
   "source": [
    "multi_matrices = matriz_identidad / suma_matrices\n",
    "multi_matrices"
   ]
  }
 ],
 "metadata": {
  "kernelspec": {
   "display_name": "adalabenv",
   "language": "python",
   "name": "python3"
  },
  "language_info": {
   "codemirror_mode": {
    "name": "ipython",
    "version": 3
   },
   "file_extension": ".py",
   "mimetype": "text/x-python",
   "name": "python",
   "nbconvert_exporter": "python",
   "pygments_lexer": "ipython3",
   "version": "3.9.7"
  },
  "orig_nbformat": 4
 },
 "nbformat": 4,
 "nbformat_minor": 2
}

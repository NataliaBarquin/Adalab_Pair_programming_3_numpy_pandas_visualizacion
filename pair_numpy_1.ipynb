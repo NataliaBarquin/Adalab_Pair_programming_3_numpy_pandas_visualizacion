{
 "cells": [
  {
   "cell_type": "markdown",
   "metadata": {},
   "source": [
    "Ejercicio 1."
   ]
  },
  {
   "cell_type": "code",
   "execution_count": 1,
   "metadata": {},
   "outputs": [],
   "source": [
    "import numpy as np"
   ]
  },
  {
   "cell_type": "code",
   "execution_count": 7,
   "metadata": {},
   "outputs": [
    {
     "data": {
      "text/plain": [
       "array([ 4, 10])"
      ]
     },
     "execution_count": 7,
     "metadata": {},
     "output_type": "execute_result"
    }
   ],
   "source": [
    "array1 = np.random.randint(1,15, (2))\n",
    "array1"
   ]
  },
  {
   "cell_type": "code",
   "execution_count": 8,
   "metadata": {},
   "outputs": [
    {
     "data": {
      "text/plain": [
       "array([[13, 12,  5],\n",
       "       [ 5, 11, 10]])"
      ]
     },
     "execution_count": 8,
     "metadata": {},
     "output_type": "execute_result"
    }
   ],
   "source": [
    "array2 = np.random.randint(1,15, (2,3))\n",
    "array2"
   ]
  },
  {
   "cell_type": "code",
   "execution_count": 9,
   "metadata": {},
   "outputs": [
    {
     "data": {
      "text/plain": [
       "array([[[ 3,  1, 13,  1,  5],\n",
       "        [ 4,  4,  4,  7, 12],\n",
       "        [13, 12,  6, 12, 13]],\n",
       "\n",
       "       [[11,  8,  2, 10,  6],\n",
       "        [ 5, 11, 10, 11, 11],\n",
       "        [12,  2,  6,  3, 10]]])"
      ]
     },
     "execution_count": 9,
     "metadata": {},
     "output_type": "execute_result"
    }
   ],
   "source": [
    "array3 = np.random.randint(1,15, (2,3,5))\n",
    "array3"
   ]
  },
  {
   "cell_type": "markdown",
   "metadata": {},
   "source": [
    "Ejercicio 2"
   ]
  },
  {
   "cell_type": "code",
   "execution_count": 22,
   "metadata": {},
   "outputs": [
    {
     "data": {
      "text/plain": [
       "<function RandomState.random_sample>"
      ]
     },
     "execution_count": 22,
     "metadata": {},
     "output_type": "execute_result"
    }
   ],
   "source": [
    "np.random.random_sample\n",
    "\n",
    "\n",
    "\n",
    "\n"
   ]
  },
  {
   "cell_type": "code",
   "execution_count": 21,
   "metadata": {},
   "outputs": [
    {
     "data": {
      "text/plain": [
       "<function numpy.array>"
      ]
     },
     "execution_count": 21,
     "metadata": {},
     "output_type": "execute_result"
    }
   ],
   "source": [
    "np.array"
   ]
  },
  {
   "cell_type": "code",
   "execution_count": 20,
   "metadata": {},
   "outputs": [
    {
     "data": {
      "text/plain": [
       "1"
      ]
     },
     "execution_count": 20,
     "metadata": {},
     "output_type": "execute_result"
    }
   ],
   "source": [
    "array1.ndim"
   ]
  },
  {
   "cell_type": "code",
   "execution_count": 23,
   "metadata": {},
   "outputs": [
    {
     "data": {
      "text/plain": [
       "array([[1, 1, 1],\n",
       "       [1, 1, 1]])"
      ]
     },
     "execution_count": 23,
     "metadata": {},
     "output_type": "execute_result"
    }
   ],
   "source": [
    "np.ones_like(array2)"
   ]
  },
  {
   "cell_type": "code",
   "execution_count": 25,
   "metadata": {},
   "outputs": [
    {
     "data": {
      "text/plain": [
       "array([[0, 0, 0],\n",
       "       [0, 0, 0]])"
      ]
     },
     "execution_count": 25,
     "metadata": {},
     "output_type": "execute_result"
    }
   ],
   "source": [
    "np.zeros_like(array2)"
   ]
  },
  {
   "cell_type": "code",
   "execution_count": 26,
   "metadata": {},
   "outputs": [
    {
     "data": {
      "text/plain": [
       "array([[7.64521479e-317, 0.00000000e+000, 1.50071887e-316,\n",
       "        1.69759665e-313, 2.33419539e-313, 6.94932402e-310,\n",
       "        1.50071728e-316, 3.76496994e-317, 1.69759668e-313,\n",
       "        2.97079415e-313],\n",
       "       [6.94932402e-310, 6.94947734e-310, 1.69759665e-313,\n",
       "        2.33419539e-313, 4.94065646e-324, 1.50072400e-316,\n",
       "        1.50072440e-316, 6.94947734e-310, 0.00000000e+000,\n",
       "        6.15378782e-313],\n",
       "       [7.00258613e-313, 6.15378779e-313, 6.94947727e-310,\n",
       "        1.50072321e-316, 0.00000000e+000, 0.00000000e+000,\n",
       "        6.94947618e-310, 6.94947618e-310, 1.69759666e-313,\n",
       "        7.00258613e-313],\n",
       "       [6.15378779e-313, 6.94947734e-310, 4.94065646e-324,\n",
       "        1.50073389e-316, 1.69759666e-313, 2.54639497e-313,\n",
       "        9.88131292e-324, 1.50073270e-316, 1.49026009e-316,\n",
       "        1.49026246e-316]])"
      ]
     },
     "execution_count": 26,
     "metadata": {},
     "output_type": "execute_result"
    }
   ],
   "source": [
    "np.empty(array1)"
   ]
  },
  {
   "cell_type": "code",
   "execution_count": 28,
   "metadata": {},
   "outputs": [
    {
     "data": {
      "text/plain": [
       "array([[[           4593,               0, 140658983606064,\n",
       "         140658985612720, 140658983612272],\n",
       "        [140658983621920, 140658983612720, 140658986747440,\n",
       "         140658986753648, 140658987453808],\n",
       "        [140658986746416, 140658986746480, 140658986746608,\n",
       "         140658986762448, 140658986746288]],\n",
       "\n",
       "       [[140658986746352, 140658986746672, 140658986746736,\n",
       "         140658986746800, 140658986746864],\n",
       "        [140658986746928, 140658986746992, 140658986751344,\n",
       "         140658986751408, 140658986763888],\n",
       "        [140658986764048, 140658986751472, 140658986751536,\n",
       "         140658986751600, 140658986751728]]])"
      ]
     },
     "execution_count": 28,
     "metadata": {},
     "output_type": "execute_result"
    }
   ],
   "source": [
    "np.empty_like(array3)"
   ]
  },
  {
   "cell_type": "code",
   "execution_count": 29,
   "metadata": {},
   "outputs": [],
   "source": [
    "def obtener_propiedades(array):\n",
    "    num_dimensiones = array.ndim\n",
    "    tamaño_total = array.size\n",
    "    tipo_datos = array.dtype\n",
    "    propiedades = {\n",
    "        'número dimensiones': num_dimensiones,\n",
    "        'tamaño del array': tamaño_total,\n",
    "        'tipo de datos': tipo_datos,\n",
    "    }\n",
    "    return propiedades"
   ]
  },
  {
   "cell_type": "code",
   "execution_count": 30,
   "metadata": {},
   "outputs": [
    {
     "data": {
      "text/plain": [
       "{'número dimensiones': 1,\n",
       " 'tamaño del array': 2,\n",
       " 'tipo de datos': dtype('int64')}"
      ]
     },
     "execution_count": 30,
     "metadata": {},
     "output_type": "execute_result"
    }
   ],
   "source": [
    "obtener_propiedades(array1)"
   ]
  },
  {
   "cell_type": "code",
   "execution_count": 31,
   "metadata": {},
   "outputs": [
    {
     "data": {
      "text/plain": [
       "{'número dimensiones': 2,\n",
       " 'tamaño del array': 6,\n",
       " 'tipo de datos': dtype('int64')}"
      ]
     },
     "execution_count": 31,
     "metadata": {},
     "output_type": "execute_result"
    }
   ],
   "source": [
    "obtener_propiedades(array2)"
   ]
  },
  {
   "cell_type": "code",
   "execution_count": 32,
   "metadata": {},
   "outputs": [
    {
     "data": {
      "text/plain": [
       "{'número dimensiones': 3,\n",
       " 'tamaño del array': 30,\n",
       " 'tipo de datos': dtype('int64')}"
      ]
     },
     "execution_count": 32,
     "metadata": {},
     "output_type": "execute_result"
    }
   ],
   "source": [
    "obtener_propiedades(array3)"
   ]
  },
  {
   "cell_type": "markdown",
   "metadata": {},
   "source": [
    "Ejercicio 3"
   ]
  },
  {
   "cell_type": "code",
   "execution_count": null,
   "metadata": {},
   "outputs": [],
   "source": [
    "matriz_identidad = (2,3,3)"
   ]
  }
 ],
 "metadata": {
  "kernelspec": {
   "display_name": "adalabenv",
   "language": "python",
   "name": "python3"
  },
  "language_info": {
   "codemirror_mode": {
    "name": "ipython",
    "version": 3
   },
   "file_extension": ".py",
   "mimetype": "text/x-python",
   "name": "python",
   "nbconvert_exporter": "python",
   "pygments_lexer": "ipython3",
   "version": "3.10.11"
  },
  "orig_nbformat": 4
 },
 "nbformat": 4,
 "nbformat_minor": 2
}
